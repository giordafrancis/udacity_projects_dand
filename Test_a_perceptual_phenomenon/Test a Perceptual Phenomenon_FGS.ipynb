{
 "cells": [
  {
   "cell_type": "markdown",
   "metadata": {},
   "source": [
    "### Analyzing the Stroop Effect\n",
    "Perform the analysis in the space below. Remember to follow [the instructions](https://docs.google.com/document/d/1-OkpZLjG_kX9J6LIQ5IltsqMzVWjh36QpnP2RYpVdPU/pub?embedded=True) and review the [project rubric](https://review.udacity.com/#!/rubrics/71/view) before submitting. Once you've completed the analysis and write-up, download this file as a PDF or HTML file, upload that PDF/HTML into the workspace here (click on the orange Jupyter icon in the upper left then Upload), then use the Submit Project button at the bottom of this page. This will create a zip file containing both this .ipynb doc and the PDF/HTML doc that will be submitted for your project.\n",
    "\n",
    "\n",
    "(1) What is the independent variable? What is the dependent variable?"
   ]
  },
  {
   "cell_type": "markdown",
   "metadata": {},
   "source": [
    "In this experiment each participant takes the test (independent variable) with two conditions. The outcome of each test , the measure as the reaction time (dependent variable). \n",
    "\n",
    "The below independent variable (the test) is repeated under different conditions:\n",
    "   \n",
    "    - Congruent : words match displayed colour \n",
    "    - Incongruent : words and colour do not match\n",
    "    \n",
    "The Dependant variable , our measure , is the recorded reaction time each participant takes to each condition."
   ]
  },
  {
   "cell_type": "markdown",
   "metadata": {},
   "source": [
    "(2) What is an appropriate set of hypotheses for this task? Specify your null and alternative hypotheses, and clearly define any notation used. Justify your choices."
   ]
  },
  {
   "cell_type": "markdown",
   "metadata": {},
   "source": [
    "This experiment the same group has repeated the same test, under different conditions. \n",
    "\n",
    "Based on the sample measurements the Incongruent test has a greater average reaction time then the Congruent condition. In our alternative hypothesisis , the population average reaction time will be smaller under the Congruent condition. \n",
    "\n",
    "To verify this we take the counter example : the null hypothesis . We assume the same true average reaction time for both conditions. The population difference in average means will be 0. \n",
    "\n",
    "The significance level, alpha, is set at 0.05. Meaning 5% risk of being wrong in favour of the alternative hypothesis is considered to be satisfactory. In this case we would assume the population average respose time to the Congruent condition to be the lower, when in reality the null hypothesis was in fact true.  \n",
    "\n",
    "To verify if our alternative hypothesis is statistically significant, a the [T-Test on Two related samples](https://docs.scipy.org/doc/scipy/reference/generated/scipy.stats.ttest_rel.html) of scores is the chosen method. \n"
   ]
  },
  {
   "cell_type": "markdown",
   "metadata": {},
   "source": [
    "\n",
    "$$H_0: \\mu_{Congruent} - \\mu_{Incongruent} = 0$$\n",
    "\n",
    "$$H_1: \\mu_{Congruent} - \\mu_{Incongruent} < 0$$\n",
    "\n",
    "$$\\alpha = 0.05$$\n",
    "\n",
    "$$p < 0.05$$"
   ]
  },
  {
   "cell_type": "markdown",
   "metadata": {},
   "source": [
    "(3) Report some descriptive statistics regarding this dataset. Include at least one measure of central tendency and at least one measure of variability. The name of the data file is 'stroopdata.csv'."
   ]
  },
  {
   "cell_type": "code",
   "execution_count": 2,
   "metadata": {},
   "outputs": [],
   "source": [
    "import pandas as pd"
   ]
  },
  {
   "cell_type": "code",
   "execution_count": 3,
   "metadata": {},
   "outputs": [
    {
     "data": {
      "text/html": [
       "<div>\n",
       "<style scoped>\n",
       "    .dataframe tbody tr th:only-of-type {\n",
       "        vertical-align: middle;\n",
       "    }\n",
       "\n",
       "    .dataframe tbody tr th {\n",
       "        vertical-align: top;\n",
       "    }\n",
       "\n",
       "    .dataframe thead th {\n",
       "        text-align: right;\n",
       "    }\n",
       "</style>\n",
       "<table border=\"1\" class=\"dataframe\">\n",
       "  <thead>\n",
       "    <tr style=\"text-align: right;\">\n",
       "      <th></th>\n",
       "      <th>Congruent</th>\n",
       "      <th>Incongruent</th>\n",
       "    </tr>\n",
       "  </thead>\n",
       "  <tbody>\n",
       "    <tr>\n",
       "      <th>0</th>\n",
       "      <td>12.079</td>\n",
       "      <td>19.278</td>\n",
       "    </tr>\n",
       "    <tr>\n",
       "      <th>1</th>\n",
       "      <td>16.791</td>\n",
       "      <td>18.741</td>\n",
       "    </tr>\n",
       "    <tr>\n",
       "      <th>2</th>\n",
       "      <td>9.564</td>\n",
       "      <td>21.214</td>\n",
       "    </tr>\n",
       "    <tr>\n",
       "      <th>3</th>\n",
       "      <td>8.630</td>\n",
       "      <td>15.687</td>\n",
       "    </tr>\n",
       "    <tr>\n",
       "      <th>4</th>\n",
       "      <td>14.669</td>\n",
       "      <td>22.803</td>\n",
       "    </tr>\n",
       "  </tbody>\n",
       "</table>\n",
       "</div>"
      ],
      "text/plain": [
       "   Congruent  Incongruent\n",
       "0     12.079       19.278\n",
       "1     16.791       18.741\n",
       "2      9.564       21.214\n",
       "3      8.630       15.687\n",
       "4     14.669       22.803"
      ]
     },
     "execution_count": 3,
     "metadata": {},
     "output_type": "execute_result"
    }
   ],
   "source": [
    "stroop = pd.read_csv('stroopdata.csv')\n",
    "stroop.head()"
   ]
  },
  {
   "cell_type": "code",
   "execution_count": 4,
   "metadata": {},
   "outputs": [
    {
     "data": {
      "text/plain": [
       "(24, 2)"
      ]
     },
     "execution_count": 4,
     "metadata": {},
     "output_type": "execute_result"
    }
   ],
   "source": [
    "stroop.shape #verify the dataframe shape"
   ]
  },
  {
   "cell_type": "code",
   "execution_count": 5,
   "metadata": {},
   "outputs": [
    {
     "data": {
      "text/html": [
       "<div>\n",
       "<style scoped>\n",
       "    .dataframe tbody tr th:only-of-type {\n",
       "        vertical-align: middle;\n",
       "    }\n",
       "\n",
       "    .dataframe tbody tr th {\n",
       "        vertical-align: top;\n",
       "    }\n",
       "\n",
       "    .dataframe thead th {\n",
       "        text-align: right;\n",
       "    }\n",
       "</style>\n",
       "<table border=\"1\" class=\"dataframe\">\n",
       "  <thead>\n",
       "    <tr style=\"text-align: right;\">\n",
       "      <th></th>\n",
       "      <th>count</th>\n",
       "      <th>mean</th>\n",
       "      <th>std</th>\n",
       "      <th>min</th>\n",
       "      <th>25%</th>\n",
       "      <th>50%</th>\n",
       "      <th>75%</th>\n",
       "      <th>max</th>\n",
       "      <th>IQR</th>\n",
       "    </tr>\n",
       "  </thead>\n",
       "  <tbody>\n",
       "    <tr>\n",
       "      <th>Congruent</th>\n",
       "      <td>24.0</td>\n",
       "      <td>14.05</td>\n",
       "      <td>3.56</td>\n",
       "      <td>8.63</td>\n",
       "      <td>11.90</td>\n",
       "      <td>14.36</td>\n",
       "      <td>16.20</td>\n",
       "      <td>22.33</td>\n",
       "      <td>4.31</td>\n",
       "    </tr>\n",
       "    <tr>\n",
       "      <th>Incongruent</th>\n",
       "      <td>24.0</td>\n",
       "      <td>22.02</td>\n",
       "      <td>4.80</td>\n",
       "      <td>15.69</td>\n",
       "      <td>18.72</td>\n",
       "      <td>21.02</td>\n",
       "      <td>24.05</td>\n",
       "      <td>35.26</td>\n",
       "      <td>5.33</td>\n",
       "    </tr>\n",
       "  </tbody>\n",
       "</table>\n",
       "</div>"
      ],
      "text/plain": [
       "             count   mean   std    min    25%    50%    75%    max   IQR\n",
       "Congruent     24.0  14.05  3.56   8.63  11.90  14.36  16.20  22.33  4.31\n",
       "Incongruent   24.0  22.02  4.80  15.69  18.72  21.02  24.05  35.26  5.33"
      ]
     },
     "execution_count": 5,
     "metadata": {},
     "output_type": "execute_result"
    }
   ],
   "source": [
    "stroop_stats = stroop.describe() \n",
    "stroop_IQR = stroop_stats.loc[['25%','75%']] \\\n",
    "                         .copy() \\\n",
    "                         .diff() \\\n",
    "                         .dropna() \\\n",
    "                         .rename(index = {'75%':'IQR'}) #calculated the Inter Quartille Range (IQR)\n",
    "                \n",
    "stroop_stats = stroop_stats.append(stroop_IQR) \\\n",
    "                           .T \\\n",
    "                           .round(2) #appended and rounded to 2 dec. points all results. \n",
    "stroop_stats"
   ]
  },
  {
   "cell_type": "markdown",
   "metadata": {},
   "source": [
    "As the test conditions are applied to each participant the number of samples is the same for each test : 24.\n",
    "The mean response time for the Congruent  is 14.05 and 22.02 for the Incongruent condition. The median is 21.02 for the Congruent vs.14.36 for the Incongruent condition.\n",
    "\n",
    "The Standard Deviation and Inter Quartile Range is also bigger on the Incongruent condition;  4.8 vs 3.56 and 5.33 vs 4.31. \n"
   ]
  },
  {
   "cell_type": "markdown",
   "metadata": {},
   "source": [
    "(4) Provide one or two visualizations that show the distribution of the sample data. Write one or two sentences noting what you observe about the plot or plots."
   ]
  },
  {
   "cell_type": "code",
   "execution_count": 6,
   "metadata": {},
   "outputs": [
    {
     "data": {
      "image/png": "[encoded data removed]",
      "text/plain": [
       "<matplotlib.figure.Figure at 0x8d11470>"
      ]
     },
     "metadata": {},
     "output_type": "display_data"
    }
   ],
   "source": [
    "# Build the visualizations here\n",
    "%matplotlib inline\n",
    "stroop.hist(figsize=(12,6)); #histogram with sample distribution"
   ]
  },
  {
   "cell_type": "code",
   "execution_count": 7,
   "metadata": {},
   "outputs": [
    {
     "data": {
      "image/png": "[encoded data removed]",
      "text/plain": [
       "<matplotlib.figure.Figure at 0x8d11390>"
      ]
     },
     "metadata": {},
     "output_type": "display_data"
    }
   ],
   "source": [
    "stroop.boxplot(figsize=(12,6)); "
   ]
  },
  {
   "cell_type": "markdown",
   "metadata": {},
   "source": [
    "The distribution shape:\n",
    "    - Incongruent - right skewed data. Two outliers are present. \n",
    "    - Congruent - more plateau towards a center value no outliers present. \n",
    "    \n",
    "Data appears not to be normally distributed for both conditions.  Measures appear significantly lower for the Congruent condition. \n",
    "\n",
    "Below we test for nromality:"
   ]
  },
  {
   "cell_type": "code",
   "execution_count": 19,
   "metadata": {},
   "outputs": [
    {
     "data": {
      "text/plain": [
       "((0.970922589302063, 0.689803421497345),\n",
       " (0.85394686460495, 0.0025900385808199644),\n",
       " (0.9104195833206177, 0.036017220467329025))"
      ]
     },
     "execution_count": 19,
     "metadata": {},
     "output_type": "execute_result"
    }
   ],
   "source": [
    "from scipy import stats\n",
    "\n",
    "stats.shapiro(stroop.Congruent), stats.shapiro(stroop.Incongruent), stats.shapiro(stroop.difference)"
   ]
  },
  {
   "cell_type": "markdown",
   "metadata": {},
   "source": [
    "In the shapiro wilk test for normality the null states the sample is normally distributes. a p value > 0.05 will fail to reject the null hypothesis. On both the Incongruent and sample mean difference we have to reject normality. "
   ]
  },
  {
   "cell_type": "markdown",
   "metadata": {},
   "source": [
    "(5)  Now, perform the statistical test and report your results. What is your confidence level or Type I error associated with your test? What is your conclusion regarding the hypotheses you set up? Did the results match up with your expectations? **Hint:**  Think about what is being measured on each individual, and what statistic best captures how an individual reacts in each environment."
   ]
  },
  {
   "cell_type": "code",
   "execution_count": 20,
   "metadata": {},
   "outputs": [],
   "source": [
    "# Perform the statistical test here\n",
    "import numpy as np"
   ]
  },
  {
   "cell_type": "markdown",
   "metadata": {},
   "source": [
    "The significance level, alpha, is set at 0.05. There's a  5% risk and not above of Type I error associated with the test; assuming the incongruent condition has a greater or equal average response time when the null hypothesis was in fact true.  \n"
   ]
  },
  {
   "cell_type": "markdown",
   "metadata": {},
   "source": [
    "I've decided to carry out a confidence interval analysis, using the population mean difference for both conditions."
   ]
  },
  {
   "cell_type": "code",
   "execution_count": 21,
   "metadata": {},
   "outputs": [
    {
     "data": {
      "text/html": [
       "<div>\n",
       "<style scoped>\n",
       "    .dataframe tbody tr th:only-of-type {\n",
       "        vertical-align: middle;\n",
       "    }\n",
       "\n",
       "    .dataframe tbody tr th {\n",
       "        vertical-align: top;\n",
       "    }\n",
       "\n",
       "    .dataframe thead th {\n",
       "        text-align: right;\n",
       "    }\n",
       "</style>\n",
       "<table border=\"1\" class=\"dataframe\">\n",
       "  <thead>\n",
       "    <tr style=\"text-align: right;\">\n",
       "      <th></th>\n",
       "      <th>Congruent</th>\n",
       "      <th>Incongruent</th>\n",
       "      <th>difference</th>\n",
       "    </tr>\n",
       "  </thead>\n",
       "  <tbody>\n",
       "    <tr>\n",
       "      <th>0</th>\n",
       "      <td>12.079</td>\n",
       "      <td>19.278</td>\n",
       "      <td>-7.199</td>\n",
       "    </tr>\n",
       "    <tr>\n",
       "      <th>1</th>\n",
       "      <td>16.791</td>\n",
       "      <td>18.741</td>\n",
       "      <td>-1.950</td>\n",
       "    </tr>\n",
       "    <tr>\n",
       "      <th>2</th>\n",
       "      <td>9.564</td>\n",
       "      <td>21.214</td>\n",
       "      <td>-11.650</td>\n",
       "    </tr>\n",
       "    <tr>\n",
       "      <th>3</th>\n",
       "      <td>8.630</td>\n",
       "      <td>15.687</td>\n",
       "      <td>-7.057</td>\n",
       "    </tr>\n",
       "    <tr>\n",
       "      <th>4</th>\n",
       "      <td>14.669</td>\n",
       "      <td>22.803</td>\n",
       "      <td>-8.134</td>\n",
       "    </tr>\n",
       "  </tbody>\n",
       "</table>\n",
       "</div>"
      ],
      "text/plain": [
       "   Congruent  Incongruent  difference\n",
       "0     12.079       19.278      -7.199\n",
       "1     16.791       18.741      -1.950\n",
       "2      9.564       21.214     -11.650\n",
       "3      8.630       15.687      -7.057\n",
       "4     14.669       22.803      -8.134"
      ]
     },
     "execution_count": 21,
     "metadata": {},
     "output_type": "execute_result"
    }
   ],
   "source": [
    "# first calculate the difference from each sample pair\n",
    "stroop['difference'] = stroop['Congruent'] - stroop['Incongruent']\n",
    "stroop.head()"
   ]
  },
  {
   "cell_type": "code",
   "execution_count": 24,
   "metadata": {},
   "outputs": [
    {
     "data": {
      "text/plain": [
       "(-7.964791666666666, 4.762398030222158, 24)"
      ]
     },
     "execution_count": 24,
     "metadata": {},
     "output_type": "execute_result"
    }
   ],
   "source": [
    "# assign mean,std and n of the sample difference\n",
    "sample_diff_mean = stroop['difference'].mean()\n",
    "sample_diff_std = np.std(stroop['difference'])\n",
    "n = len(stroop)\n",
    "sample_diff_mean, sample_diff_std, n"
   ]
  },
  {
   "cell_type": "markdown",
   "metadata": {},
   "source": [
    "The sample means shows a reduction in reaction time of ~ -7.96s with a standard deviation of ~ 4.76s"
   ]
  },
  {
   "cell_type": "code",
   "execution_count": 27,
   "metadata": {},
   "outputs": [
    {
     "data": {
      "text/plain": [
       "(-10.163728072932743, -5.765855260400588)"
      ]
     },
     "execution_count": 27,
     "metadata": {},
     "output_type": "execute_result"
    }
   ],
   "source": [
    "std_error = sample_diff_std / np.sqrt(n) # assign standard error variable\n",
    "t_critical = 2.262 # for 9 degrees of freedom t.975 from table http://www.normaltable.com/ttable.html \n",
    "\n",
    "upper = sample_diff_mean + t_critical * std_error \n",
    "lower = sample_diff_mean - t_critical * std_error\n",
    "\n",
    "ci = lower, upper\n",
    "ci"
   ]
  },
  {
   "cell_type": "markdown",
   "metadata": {},
   "source": [
    "We can be 95% confident our population mean difference will lie between the above interval values.  \n",
    "\n",
    "Acording to this interval a true mean reduction of 0, i.e. no mean difference in reaction time for both conditions,\n",
    "is not a valid value, with 95% confidence.\n",
    "\n",
    "Below is the T-test result on two related samples."
   ]
  },
  {
   "cell_type": "code",
   "execution_count": 28,
   "metadata": {},
   "outputs": [
    {
     "data": {
      "text/plain": [
       "(-8.020706944109957, 4.103000585711178e-08)"
      ]
     },
     "execution_count": 28,
     "metadata": {},
     "output_type": "execute_result"
    }
   ],
   "source": [
    "t_stat, p_value = stats.ttest_rel(stroop['Congruent'].values, stroop['Incongruent'].values)\n",
    "t_stat, p_value"
   ]
  },
  {
   "cell_type": "markdown",
   "metadata": {},
   "source": [
    "The observed value t values is ~  8.02. "
   ]
  },
  {
   "cell_type": "markdown",
   "metadata": {},
   "source": [
    "**Note**\n",
    "\n",
    "As the samples provided are not notrmally distrinutes, the The Wilcoxon signed-rank test was also carried out to verify the hypothesis. \n"
   ]
  },
  {
   "cell_type": "code",
   "execution_count": 29,
   "metadata": {},
   "outputs": [
    {
     "data": {
      "text/plain": [
       "WilcoxonResult(statistic=0.0, pvalue=1.821529714896801e-05)"
      ]
     },
     "execution_count": 29,
     "metadata": {},
     "output_type": "execute_result"
    }
   ],
   "source": [
    "stats.wilcoxon(stroop.Congruent.values, stroop.Incongruent.values)"
   ]
  },
  {
   "cell_type": "markdown",
   "metadata": {},
   "source": [
    "The p-value is the prob, under the null hypothesis, of getting the value we got or something  even further to the left in the t-distribution. The p-value is below 0.05. There is significant evidence that the null hypothesis can be rejected.  As above we reject the null hypothesis. \n",
    "\n",
    "Conclusion : Both the 95% confidence interval and hypothesis test lend significance that the true mean population difference for both conditions, Congruent and Incongruent is not zero. \n",
    "\n",
    "As I've taken the stroop test before, the results match my expectations. "
   ]
  },
  {
   "cell_type": "markdown",
   "metadata": {},
   "source": [
    "(6) Optional: What do you think is responsible for the effects observed? Can you think of an alternative or similar task that would result in a similar effect? Some research about the problem will be helpful for thinking about these two questions!"
   ]
  },
  {
   "cell_type": "markdown",
   "metadata": {},
   "source": [
    "Not answered. If possible I would like some guidance from reviewer in this question. My initial research lead me to Multistable perception and optical illusion as similar task that could result in similar effect. \n",
    "\n",
    "I understand is not compulsory but would like to attemp to resolve it. Also requested help with Udacity community. Thank you for your time. "
   ]
  },
  {
   "cell_type": "markdown",
   "metadata": {},
   "source": [
    "### References\n",
    "\n",
    "Books:\n",
    "[Pratical Statistics for Data Scientists](http://shop.oreilly.com/product/0636920048992.do)\n",
    "\n",
    "Websites:\n",
    "\n",
    "https://www.isixsigma.com/tools-templates/hypothesis-testing/making-sense-two-sample-t-test/\n",
    "\n",
    "http://www.normaltable.com/ttable.html\n",
    "\n",
    "https://docs.scipy.org/doc/scipy/reference/generated/scipy.stats.ttest_rel.html\n",
    "\n",
    "\n",
    "[An Example of a Paired-Difference t Test and Confidence Interval](https://www.youtube.com/watch?v=upc4zN_-YFM)\n",
    "\n"
   ]
  }
 ],
 "metadata": {
  "kernelspec": {
   "display_name": "Python 3",
   "language": "python",
   "name": "python3"
  },
  "language_info": {
   "codemirror_mode": {
    "name": "ipython",
    "version": 3
   },
   "file_extension": ".py",
   "mimetype": "text/x-python",
   "name": "python",
   "nbconvert_exporter": "python",
   "pygments_lexer": "ipython3",
   "version": "3.6.6"
  }
 },
 "nbformat": 4,
 "nbformat_minor": 2
}
