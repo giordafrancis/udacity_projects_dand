{
 "cells": [
  {
   "cell_type": "markdown",
   "metadata": {},
   "source": [
    "This repository is used to showcase my Udacity Data Analyst Nanodegree. The six projects are described below. Further content and data can be reviewed in the project folders. \n",
    "\n",
    "#### Bike Share\n",
    "\n",
    "A pure python Exploratory Analysis on data provided by [Motivate](https://www.motivateco.com/), a bike-share system provider for many major cities in the United States. Comparing the system usage for three large cities: New York City, Chicago, and Washington, DC. \n",
    "\n",
    "##### Analyse ab test results\n",
    "\n",
    "For this Project I was able to review, analyse and  understand the results of an A/B test run by an e-commerce website.  \n",
    "\n",
    "#### Test a Perceptual Phenomenon\n",
    "\n",
    "Computed descriptive statistics and perform a statistical hypothesis test on a dataset based on a psychological phenomenon, the Stroop Effect\n",
    "\n",
    "#### Exploratory data analysis in R\n",
    "\n",
    "Used R and apply exploratory data analysis techniques to discover what parameters affect or not wine quality ratings. \n",
    "\n",
    "#### WerateDogs data wrangling\n",
    "\n",
    "Gathered data from a variety of sources and in a variety of formats, assess its quality and tidiness,  clean it for analyses of the WeRateDogs #tag. \n",
    "\n",
    "\n",
    "#### Data Story Telling\n",
    "\n",
    "Used Tableau to create an explanatory data visualization that communicates a clear finding on the borrowers form the per-to-per prosper loans platform.\n",
    "Project can be viewed [here](https://public.tableau.com/profile/francisco.giordano.silva#!/vizhome/project_prosper/prosper_fgs_v2)"
   ]
  },
  {
   "cell_type": "code",
   "execution_count": null,
   "metadata": {},
   "outputs": [],
   "source": []
  }
 ],
 "metadata": {
  "kernelspec": {
   "display_name": "Python 3",
   "language": "python",
   "name": "python3"
  },
  "language_info": {
   "codemirror_mode": {
    "name": "ipython",
    "version": 3
   },
   "file_extension": ".py",
   "mimetype": "text/x-python",
   "name": "python",
   "nbconvert_exporter": "python",
   "pygments_lexer": "ipython3",
   "version": "3.7.1"
  }
 },
 "nbformat": 4,
 "nbformat_minor": 2
}
