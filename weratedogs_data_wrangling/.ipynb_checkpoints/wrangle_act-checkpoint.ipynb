{
 "cells": [
  {
   "cell_type": "markdown",
   "metadata": {},
   "source": [
    "1.Introduction\n",
    "\n",
    "In this project I've gathered data from a variety of sources.  Access it's quality and tidiness and cleaned it. In a process called data wrangling. The dataset used was the well know twitter tag WeRateDogs. \n",
    "\n",
    "A final section where exploratory data analysis is performed was also performed \n",
    "\n",
    "The project contents and sections have been highlighted below. "
   ]
  },
  {
   "cell_type": "markdown",
   "metadata": {},
   "source": [
    "2. Data Gathering\n",
    "\n",
    "         2.1 Gather Data 1 \n",
    "         2.2 Gather Data 2 \n",
    "         2.3 Gather Data 3 \n",
    " \n",
    "3. Assess Data \n",
    "\n",
    "        3.1 Visual Assessment \n",
    "        3.2 Programatic assessment \n",
    "        3.3. Issues list \n",
    "\n",
    "4. Cleaning \n",
    "\n",
    "Letters D for Define, C for Code and T for Test were used below:\n",
    "\n",
    "         4.1.1 D: Variables `in_reply_to_status_id`\\ `in_reply_to_user_id` have 78 non-null values\n",
    "         4.1.2 C: Remove both variables as only 78 values are present\n",
    "         4.1.3 T: Test if columns were removed\n",
    "\n",
    "         4.2.1 D:`retweeted_status_id/status_user_ids` null values\n",
    "         4.2.2 C: After visual analysis; the equivalent tweet id appear to be retweets. As per project specification, we are only interested in original tweets. I will remove all values and the above variables. \n",
    "         4.2.3 T: Test if columns were removed\n",
    "         \n",
    "         4.3.1 D: Improve dog name quality: Dog names appear to be incorrect . 'a', 'just', 'all' were spotted. None value has the highest frequency.\n",
    "         4.3.2 C: identify all lower case names. Create bol array for indexing, convert to `np.NaN`\n",
    "         4.3.3 C: Identify all None values. Use bolean indexing to covert all values to `np.NAN`\n",
    "         4.3.4 T: Test if all identified incorrect names have been removed\n",
    "         4.3.5 C: Identify all upper case dog names. Combine this new series with name series.\n",
    "         \n",
    "         4.4.1 - D: Improve `source` variable: repeated url entries. Only last segment of text appear relevant. Convert to Categorical \n",
    "         4.4.2 C: Use str.split method to retrive last indexer. Use str slice to remove unwanted section\n",
    "         4.4.3 T: Test cleaning took place\n",
    "         \n",
    "         4.5.1 D: The rating_numerator column should of type float and also it should be correctly extracted\n",
    "         4.5.2 C: Define regex pattern; overwrite `rating_numerator_variable`\n",
    "         4.5.3 T: Visual check on same `index_float` values \n",
    "         \n",
    "         4.6.1 D: The rating_denominator values should all be 10\n",
    "         4.6.2 C: identify all values not equal to 10. Use boolean indexing to assign the value 10\n",
    "         4.6.3 T: Assert if all denominators are 10\n",
    "         \n",
    "         4.7.1 D & C: `timestamp` variable needs to be converted to `datetime`.\n",
    "         4.7.2 T: Assert if `timestamp` variable has been converted\n",
    "         \n",
    "         4.8.1 D:`duggo` to `puppo` variables need to be converted to `np.NAN`.Multiple values need to be highlighted\n",
    "         4.8.2 C: Create variable w/ all columns required. Loop over each col. In each loop use bolean indexing and convert values None values to null\n",
    "         4.8.3 C: Highlights all indexes where count is bigger then 1. Use bolean indexing and convert all  required columns values to `NaN` first then all `doggo` values to string 'multi'.\n",
    "         4.8.4 T: Assert if any None value and count of all god classes are less then 1 are still valid\n",
    "         \n",
    "         4.9.1 D: `dog_type` : duggo, fluffer, puppo, pupper appear to be variables stored as columms\n",
    "         4.9.2 C: Store  total dog_type total prior to reshape, use combine_first method to create `dog_type` variable; drop value variables\n",
    "         4.9.3 T: Assert if dog count total remains unchanged\n",
    "         \n",
    "         4.10.1 D: `image_predict_clean`, `pn`, `pn_conf` and `pn_dog` are variables stored as columns names \n",
    "         4.10.2 C: Create df copy; create stubs for value vars reshape; save id_vars; use `pandas.wide_to_long()` method to reshape all three predictions tests in one call\n",
    "         4.10.3 T: Assert if all `tweet_id` are the same after long convertion\n",
    "         \n",
    "         4.11.1 D: Merge all cleaned frames into a master DataFrame\n",
    "         4.11.2 C: Use `pandas.merge` for to merge all DataFrames; save file as `twitter_archive_master.csv`\n",
    "         4.11.3 T: assert if all tweet_ids are unique\n",
    "         \n",
    "5. Store the cleaned dataset \n",
    "\n",
    "\n",
    "6. Analyze the Cleaned dataset"
   ]
  },
  {
   "cell_type": "code",
   "execution_count": 1,
   "metadata": {},
   "outputs": [],
   "source": [
    "import tweepy\n",
    "import pandas as pd\n",
    "import requests\n",
    "import numpy as np\n",
    "%matplotlib inline\n",
    "\n",
    "import json\n",
    "import re\n",
    "from pathlib import Path\n",
    "from collections import OrderedDict"
   ]
  },
  {
   "cell_type": "code",
   "execution_count": 2,
   "metadata": {},
   "outputs": [],
   "source": [
    "#initialize pathA\n",
    "data = Path('./data')\n",
    "if not data.exists():\n",
    "    data.mkdir('./data')"
   ]
  },
  {
   "cell_type": "markdown",
   "metadata": {},
   "source": [
    "##### Data Gathering"
   ]
  },
  {
   "cell_type": "markdown",
   "metadata": {},
   "source": [
    "Gather Date 1 - WeRateDogs twitter archive :  twitter_archive_enhanced.csv"
   ]
  },
  {
   "cell_type": "code",
   "execution_count": 3,
   "metadata": {},
   "outputs": [
    {
     "data": {
      "text/plain": [
       "(2356, 17)"
      ]
     },
     "execution_count": 3,
     "metadata": {},
     "output_type": "execute_result"
    }
   ],
   "source": [
    "#WeRateDogs twitter archive read file and store df \n",
    "t_archive = pd.read_csv(data/'twitter-archive-enhanced.csv')\n",
    "t_archive.shape"
   ]
  },
  {
   "cell_type": "markdown",
   "metadata": {},
   "source": [
    "Gather Data 2 - Image predictions file request: hosted in the Udacity server"
   ]
  },
  {
   "cell_type": "code",
   "execution_count": 4,
   "metadata": {},
   "outputs": [],
   "source": [
    "#tweet image predictions, request file via server\n",
    "\n",
    "url =  'https://d17h27t6h515a5.cloudfront.net/topher/2017/August/599fd2ad_image-predictions/image-predictions.tsv'\n",
    "response = requests.get(url)\n",
    "with open(data/url.split('/')[-1] , mode = 'wb') as file:\n",
    "    file.write(response.content) "
   ]
  },
  {
   "cell_type": "code",
   "execution_count": 5,
   "metadata": {},
   "outputs": [
    {
     "data": {
      "text/plain": [
       "(2075, 12)"
      ]
     },
     "execution_count": 5,
     "metadata": {},
     "output_type": "execute_result"
    }
   ],
   "source": [
    "#read tsv file and \n",
    "img_predict = pd.read_table(data/'image-predictions.tsv')\n",
    "img_predict.shape"
   ]
  },
  {
   "cell_type": "markdown",
   "metadata": {},
   "source": [
    "Gather Data 3 - Tweepy API iteration query for all twitter id in twitter_archive_enhanced.csv\n",
    "\n",
    "Steps used in this process\n",
    "\n",
    " 1. Access the api\n",
    " 2. Get status for all tweet_Ids as per t_archive series\n",
    " 3. Append json data to tweet_json.txt, append new line\n",
    " 4. Read this tweet_json.txt file line by line into a pandas DataFrame with variables `tweet ID`, `retweet_count`, and `favorite_count`.\n"
   ]
  },
  {
   "cell_type": "markdown",
   "metadata": {},
   "source": [
    "1- Access the API"
   ]
  },
  {
   "cell_type": "code",
   "execution_count": null,
   "metadata": {},
   "outputs": [],
   "source": [
    "#twitter API json code below for authentication at tweepy.API\n",
    "#Access the api developer, all keys removed as per project rubric\n",
    "consumer_key = 'consumer_key'\n",
    "consumer_secret = 'consumer_secret'\n",
    "access_token = 'access_token'\n",
    "access_secret = 'access_secret'\n",
    "\n",
    "auth = tweepy.OAuthHandler(consumer_key, consumer_secret)\n",
    "auth.set_access_token(access_token, access_secret)\n",
    "\n",
    "api = tweepy.API(auth, \n",
    "                 wait_on_rate_limit = True, \n",
    "                 wait_on_rate_limit_notify= True) "
   ]
  },
  {
   "cell_type": "markdown",
   "metadata": {},
   "source": [
    "2 -Get status for all tweet_Ids as per t_archive series\n",
    "\n",
    "3- Append json data to tweet_json.txt, append new line"
   ]
  },
  {
   "cell_type": "code",
   "execution_count": 6,
   "metadata": {},
   "outputs": [],
   "source": [
    "#below is the code used to retreive each json per id\n",
    "\n",
    "err_id = []\n",
    "for i in t_archive.tweet_id.values:\n",
    "    try:\n",
    "        request = api.get_status( i , tweet_mode = 'extended') #retreive status per tweet_id\n",
    "        with open(data /'tweet_json.txt', 'a') as file: #used append mode\n",
    "            json.dump(request._json, file) #_json attribute to parse request as .json\n",
    "            file.write('\\n') #adding a line to each json written per tweet_id\n",
    "    except Exception as e:\n",
    "        err_id.append(i) #captured all tweet_id where no data was avaliable if required"
   ]
  },
  {
   "cell_type": "markdown",
   "metadata": {},
   "source": [
    "4 - read this .txt file line by line into a pandas DataFrame with variables tweet ID, retweet count, and favorite count."
   ]
  },
  {
   "cell_type": "code",
   "execution_count": 7,
   "metadata": {},
   "outputs": [
    {
     "data": {
      "text/html": [
       "<div>\n",
       "<style scoped>\n",
       "    .dataframe tbody tr th:only-of-type {\n",
       "        vertical-align: middle;\n",
       "    }\n",
       "\n",
       "    .dataframe tbody tr th {\n",
       "        vertical-align: top;\n",
       "    }\n",
       "\n",
       "    .dataframe thead th {\n",
       "        text-align: right;\n",
       "    }\n",
       "</style>\n",
       "<table border=\"1\" class=\"dataframe\">\n",
       "  <thead>\n",
       "    <tr style=\"text-align: right;\">\n",
       "      <th></th>\n",
       "      <th>tweet_id</th>\n",
       "      <th>retweet_count</th>\n",
       "      <th>favorite_count</th>\n",
       "    </tr>\n",
       "  </thead>\n",
       "  <tbody>\n",
       "    <tr>\n",
       "      <th>323</th>\n",
       "      <td>787397959788929025</td>\n",
       "      <td>3126</td>\n",
       "      <td>11655</td>\n",
       "    </tr>\n",
       "    <tr>\n",
       "      <th>202</th>\n",
       "      <td>819015331746349057</td>\n",
       "      <td>20730</td>\n",
       "      <td>0</td>\n",
       "    </tr>\n",
       "    <tr>\n",
       "      <th>63</th>\n",
       "      <td>860177593139703809</td>\n",
       "      <td>31569</td>\n",
       "      <td>0</td>\n",
       "    </tr>\n",
       "    <tr>\n",
       "      <th>672</th>\n",
       "      <td>700143752053182464</td>\n",
       "      <td>2950</td>\n",
       "      <td>7935</td>\n",
       "    </tr>\n",
       "    <tr>\n",
       "      <th>46</th>\n",
       "      <td>867421006826221569</td>\n",
       "      <td>2528</td>\n",
       "      <td>16102</td>\n",
       "    </tr>\n",
       "  </tbody>\n",
       "</table>\n",
       "</div>"
      ],
      "text/plain": [
       "               tweet_id  retweet_count  favorite_count\n",
       "323  787397959788929025           3126           11655\n",
       "202  819015331746349057          20730               0\n",
       "63   860177593139703809          31569               0\n",
       "672  700143752053182464           2950            7935\n",
       "46   867421006826221569           2528           16102"
      ]
     },
     "execution_count": 7,
     "metadata": {},
     "output_type": "execute_result"
    }
   ],
   "source": [
    "data_json = [] #list of dicts initialized\n",
    "with open(data/'tweet_json.txt', encoding='utf-8') as file:\n",
    "    for line in file:\n",
    "        json_line = json.loads(file.readline())\n",
    "        retweet = json_line['retweet_count'] \n",
    "        favorite = json_line['favorite_count']\n",
    "        tweet_id = json_line['id']\n",
    "        data_json.append({\n",
    "            'tweet_id': tweet_id,\n",
    "            'favorite_count': favorite,\n",
    "            'retweet_count': retweet\n",
    "        }) #append to data_json\n",
    "            \n",
    "counts_df = pd.DataFrame(data_json, columns= ['tweet_id', 'retweet_count', 'favorite_count' ])\n",
    "counts_df.sample(5)"
   ]
  },
  {
   "cell_type": "markdown",
   "metadata": {},
   "source": [
    "##### 3. Assess Data \n",
    "\n",
    "3.1 Visual Assessment\n",
    "    \n",
    "Visual assessment using excel for `twitter_archive_file` and `img_predict_df` and `DataFrame.sample` method for several size ten samples. Issues found:\n",
    "\n",
    "`t_archive` df\n",
    "\n",
    "**Quality**\n",
    "\n",
    "- variables `in_reply_to_status_id`\\`in_reply_to_user_id` have several null values\n",
    "- variables `retweet_status_id`\\`retweeted_status_user_id` have several null values\n",
    "- Dog `names` appear to be incorrect - 'a', 'just', 'all' were spotted\n",
    "- `source` variable has repeated url entries. Only last segment of text appear relevant\n",
    "- `expanded_url` possible links are not dog related\n",
    "\n",
    "**Tidiness** \n",
    "\n",
    "-  `dog type` : duggo, fluffer, puppo, pupper appear to be variables stored as columms \n",
    "\n",
    "`img_predict` df\n",
    "\n",
    "**Tidiness**\n",
    "\n",
    "- `pn`, `pn_conf` and `pn_dog` are variables stored as columns names \n",
    "\n",
    "`counts_df` table\n",
    "\n",
    "- no visual issues recorded"
   ]
  },
  {
   "cell_type": "code",
   "execution_count": 8,
   "metadata": {},
   "outputs": [
    {
     "data": {
      "text/html": [
       "<div>\n",
       "<style scoped>\n",
       "    .dataframe tbody tr th:only-of-type {\n",
       "        vertical-align: middle;\n",
       "    }\n",
       "\n",
       "    .dataframe tbody tr th {\n",
       "        vertical-align: top;\n",
       "    }\n",
       "\n",
       "    .dataframe thead th {\n",
       "        text-align: right;\n",
       "    }\n",
       "</style>\n",
       "<table border=\"1\" class=\"dataframe\">\n",
       "  <thead>\n",
       "    <tr style=\"text-align: right;\">\n",
       "      <th></th>\n",
       "      <th>tweet_id</th>\n",
       "      <th>in_reply_to_status_id</th>\n",
       "      <th>in_reply_to_user_id</th>\n",
       "      <th>timestamp</th>\n",
       "      <th>source</th>\n",
       "      <th>text</th>\n",
       "      <th>retweeted_status_id</th>\n",
       "      <th>retweeted_status_user_id</th>\n",
       "      <th>retweeted_status_timestamp</th>\n",
       "      <th>expanded_urls</th>\n",
       "      <th>rating_numerator</th>\n",
       "      <th>rating_denominator</th>\n",
       "      <th>name</th>\n",
       "      <th>doggo</th>\n",
       "      <th>floofer</th>\n",
       "      <th>pupper</th>\n",
       "      <th>puppo</th>\n",
       "    </tr>\n",
       "  </thead>\n",
       "  <tbody>\n",
       "    <tr>\n",
       "      <th>1599</th>\n",
       "      <td>686034024800862208</td>\n",
       "      <td>NaN</td>\n",
       "      <td>NaN</td>\n",
       "      <td>2016-01-10 03:57:12 +0000</td>\n",
       "      <td>&lt;a href=\"http://twitter.com/download/iphone\" r...</td>\n",
       "      <td>Your fav crew is back and this time they're em...</td>\n",
       "      <td>NaN</td>\n",
       "      <td>NaN</td>\n",
       "      <td>NaN</td>\n",
       "      <td>https://twitter.com/dog_rates/status/686034024...</td>\n",
       "      <td>12</td>\n",
       "      <td>10</td>\n",
       "      <td>None</td>\n",
       "      <td>None</td>\n",
       "      <td>None</td>\n",
       "      <td>None</td>\n",
       "      <td>None</td>\n",
       "    </tr>\n",
       "    <tr>\n",
       "      <th>240</th>\n",
       "      <td>846514051647705089</td>\n",
       "      <td>NaN</td>\n",
       "      <td>NaN</td>\n",
       "      <td>2017-03-28 00:07:32 +0000</td>\n",
       "      <td>&lt;a href=\"http://twitter.com/download/iphone\" r...</td>\n",
       "      <td>This is Barney. He's an elder doggo. Hitches a...</td>\n",
       "      <td>NaN</td>\n",
       "      <td>NaN</td>\n",
       "      <td>NaN</td>\n",
       "      <td>https://twitter.com/dog_rates/status/846514051...</td>\n",
       "      <td>13</td>\n",
       "      <td>10</td>\n",
       "      <td>Barney</td>\n",
       "      <td>doggo</td>\n",
       "      <td>None</td>\n",
       "      <td>None</td>\n",
       "      <td>None</td>\n",
       "    </tr>\n",
       "    <tr>\n",
       "      <th>1374</th>\n",
       "      <td>701952816642965504</td>\n",
       "      <td>NaN</td>\n",
       "      <td>NaN</td>\n",
       "      <td>2016-02-23 02:12:47 +0000</td>\n",
       "      <td>&lt;a href=\"http://twitter.com/download/iphone\" r...</td>\n",
       "      <td>Meet Rilo. He's a Northern Curly Ticonderoga. ...</td>\n",
       "      <td>NaN</td>\n",
       "      <td>NaN</td>\n",
       "      <td>NaN</td>\n",
       "      <td>https://twitter.com/dog_rates/status/701952816...</td>\n",
       "      <td>11</td>\n",
       "      <td>10</td>\n",
       "      <td>Rilo</td>\n",
       "      <td>None</td>\n",
       "      <td>None</td>\n",
       "      <td>None</td>\n",
       "      <td>None</td>\n",
       "    </tr>\n",
       "    <tr>\n",
       "      <th>1399</th>\n",
       "      <td>699691744225525762</td>\n",
       "      <td>NaN</td>\n",
       "      <td>NaN</td>\n",
       "      <td>2016-02-16 20:28:06 +0000</td>\n",
       "      <td>&lt;a href=\"http://twitter.com/download/iphone\" r...</td>\n",
       "      <td>This is Dave. He's a tropical pup. Short lil l...</td>\n",
       "      <td>NaN</td>\n",
       "      <td>NaN</td>\n",
       "      <td>NaN</td>\n",
       "      <td>https://twitter.com/dog_rates/status/699691744...</td>\n",
       "      <td>5</td>\n",
       "      <td>10</td>\n",
       "      <td>Dave</td>\n",
       "      <td>None</td>\n",
       "      <td>None</td>\n",
       "      <td>None</td>\n",
       "      <td>None</td>\n",
       "    </tr>\n",
       "    <tr>\n",
       "      <th>1110</th>\n",
       "      <td>733822306246479872</td>\n",
       "      <td>NaN</td>\n",
       "      <td>NaN</td>\n",
       "      <td>2016-05-21 00:50:46 +0000</td>\n",
       "      <td>&lt;a href=\"http://twitter.com/download/iphone\" r...</td>\n",
       "      <td>This is Moose. He's a Polynesian Floofer. Dapp...</td>\n",
       "      <td>NaN</td>\n",
       "      <td>NaN</td>\n",
       "      <td>NaN</td>\n",
       "      <td>https://twitter.com/dog_rates/status/733822306...</td>\n",
       "      <td>10</td>\n",
       "      <td>10</td>\n",
       "      <td>Moose</td>\n",
       "      <td>None</td>\n",
       "      <td>floofer</td>\n",
       "      <td>None</td>\n",
       "      <td>None</td>\n",
       "    </tr>\n",
       "  </tbody>\n",
       "</table>\n",
       "</div>"
      ],
      "text/plain": [
       "                tweet_id  in_reply_to_status_id  in_reply_to_user_id  \\\n",
       "1599  686034024800862208                    NaN                  NaN   \n",
       "240   846514051647705089                    NaN                  NaN   \n",
       "1374  701952816642965504                    NaN                  NaN   \n",
       "1399  699691744225525762                    NaN                  NaN   \n",
       "1110  733822306246479872                    NaN                  NaN   \n",
       "\n",
       "                      timestamp  \\\n",
       "1599  2016-01-10 03:57:12 +0000   \n",
       "240   2017-03-28 00:07:32 +0000   \n",
       "1374  2016-02-23 02:12:47 +0000   \n",
       "1399  2016-02-16 20:28:06 +0000   \n",
       "1110  2016-05-21 00:50:46 +0000   \n",
       "\n",
       "                                                 source  \\\n",
       "1599  <a href=\"http://twitter.com/download/iphone\" r...   \n",
       "240   <a href=\"http://twitter.com/download/iphone\" r...   \n",
       "1374  <a href=\"http://twitter.com/download/iphone\" r...   \n",
       "1399  <a href=\"http://twitter.com/download/iphone\" r...   \n",
       "1110  <a href=\"http://twitter.com/download/iphone\" r...   \n",
       "\n",
       "                                                   text  retweeted_status_id  \\\n",
       "1599  Your fav crew is back and this time they're em...                  NaN   \n",
       "240   This is Barney. He's an elder doggo. Hitches a...                  NaN   \n",
       "1374  Meet Rilo. He's a Northern Curly Ticonderoga. ...                  NaN   \n",
       "1399  This is Dave. He's a tropical pup. Short lil l...                  NaN   \n",
       "1110  This is Moose. He's a Polynesian Floofer. Dapp...                  NaN   \n",
       "\n",
       "      retweeted_status_user_id retweeted_status_timestamp  \\\n",
       "1599                       NaN                        NaN   \n",
       "240                        NaN                        NaN   \n",
       "1374                       NaN                        NaN   \n",
       "1399                       NaN                        NaN   \n",
       "1110                       NaN                        NaN   \n",
       "\n",
       "                                          expanded_urls  rating_numerator  \\\n",
       "1599  https://twitter.com/dog_rates/status/686034024...                12   \n",
       "240   https://twitter.com/dog_rates/status/846514051...                13   \n",
       "1374  https://twitter.com/dog_rates/status/701952816...                11   \n",
       "1399  https://twitter.com/dog_rates/status/699691744...                 5   \n",
       "1110  https://twitter.com/dog_rates/status/733822306...                10   \n",
       "\n",
       "      rating_denominator    name  doggo  floofer pupper puppo  \n",
       "1599                  10    None   None     None   None  None  \n",
       "240                   10  Barney  doggo     None   None  None  \n",
       "1374                  10    Rilo   None     None   None  None  \n",
       "1399                  10    Dave   None     None   None  None  \n",
       "1110                  10   Moose   None  floofer   None  None  "
      ]
     },
     "execution_count": 8,
     "metadata": {},
     "output_type": "execute_result"
    }
   ],
   "source": [
    "#visual assessment example with dataframe sample\n",
    "t_archive.sample(5)"
   ]
  },
  {
   "cell_type": "markdown",
   "metadata": {},
   "source": [
    "#### 3.2 -Programatic assessment\n",
    "\n",
    "Pandas methods DataFrame.Info() and DataFrame.describe() used for reviewing dtypes, nulls and distribution of all Series. \n",
    "\n",
    "For individual series the preferedd methods used was Series.value_counts() used per series. Reviewing the most common values per variables.  \n",
    "\n",
    "`t_archive` df\n",
    "\n",
    "**Quality**\n",
    "\n",
    "- `name` variable has 745 null values\n",
    "- `source` variable trim text\n",
    "- `source` variable convert to Categorical type \n",
    "- `rating_denominator` has values different then 10.\n",
    "- `timestamp` to `datetime` convertion\n",
    "-  duggo, fluffer, puppo, pupper have several values marked with string None. Convert to null\n",
    "\n",
    "\n",
    "\n",
    "**Tidiness** \n",
    "\n",
    "- `img_predict` df\n",
    "\n",
    "`dog type` : duggo, fluffer, puppo, pupper appear to be variables stored as columms \n",
    "\n",
    "\n",
    "**Tidiness**\n",
    "\n",
    "- `pn`, `pn_conf` and `pn_dog` are variables stored as columns names \n",
    "\n",
    "`counts_df` df\n",
    "\n",
    "- no visual issues to record\n",
    "\n"
   ]
  },
  {
   "cell_type": "markdown",
   "metadata": {},
   "source": [
    "##### 3.3. Final Cleaning Issues list \n",
    "\n",
    "**Quality**\n",
    "\n",
    "`t_archive` df\n",
    "\n",
    " 1. variables `in_reply_to_status_id`\\ `in_reply_to_user_id` have several null values\n",
    " 2. variables `retweet_status_id`\\ `retweeted_status_user_id` have several null values\n",
    " 3. Improve dog name quality: `names` appear to be incorrect . 'a', 'just', 'all' were spotted. None highest count value\n",
    " 4. Improve `source` variable: repeated url entries. Only last segment of text appear relevant. Convert to Categorical \n",
    " 5. The rating_numerator column should of type float and also it should be correctly extracted. \n",
    " 6. `rating_denominator` has values different then 10\n",
    " 7. `timestamp` to `datetime` conversion\n",
    " 8. duggo, fluffer, puppo, pupper have several values marked with string None. Convert to null. Clean variables with more then one entry per index. \n",
    "\n",
    "\n",
    "**Tidiness** \n",
    "\n",
    "9. `dog type` : duggo, fluffer, puppo, pupper appear to be variables stored as columms\n",
    "\n",
    "`img_predict` df\n",
    "\n",
    "**Tidiness**\n",
    "\n",
    "10. `pn`, `pn_conf` and `pn_dog` are variables stored as columns names \n",
    "\n",
    "`counts_df` table\n",
    "\n",
    ". no visual issues recorded\n",
    "\n",
    "**Tidiness**\n",
    "\n",
    "11. Merge all cleaned frames into a master DataFrame"
   ]
  },
  {
   "cell_type": "code",
   "execution_count": 9,
   "metadata": {},
   "outputs": [],
   "source": [
    "#Create copys of my dataframes:\n",
    "t_archive_clean = t_archive.copy()\n",
    "img_predict_clean = img_predict.copy()"
   ]
  },
  {
   "cell_type": "code",
   "execution_count": 10,
   "metadata": {},
   "outputs": [
    {
     "name": "stdout",
     "output_type": "stream",
     "text": [
      "<class 'pandas.core.frame.DataFrame'>\n",
      "RangeIndex: 2356 entries, 0 to 2355\n",
      "Data columns (total 17 columns):\n",
      "tweet_id                      2356 non-null int64\n",
      "in_reply_to_status_id         78 non-null float64\n",
      "in_reply_to_user_id           78 non-null float64\n",
      "timestamp                     2356 non-null object\n",
      "source                        2356 non-null object\n",
      "text                          2356 non-null object\n",
      "retweeted_status_id           181 non-null float64\n",
      "retweeted_status_user_id      181 non-null float64\n",
      "retweeted_status_timestamp    181 non-null object\n",
      "expanded_urls                 2297 non-null object\n",
      "rating_numerator              2356 non-null int64\n",
      "rating_denominator            2356 non-null int64\n",
      "name                          2356 non-null object\n",
      "doggo                         2356 non-null object\n",
      "floofer                       2356 non-null object\n",
      "pupper                        2356 non-null object\n",
      "puppo                         2356 non-null object\n",
      "dtypes: float64(4), int64(3), object(10)\n",
      "memory usage: 313.0+ KB\n"
     ]
    }
   ],
   "source": [
    "#example .info() method used\n",
    "t_archive_clean.info()"
   ]
  },
  {
   "cell_type": "code",
   "execution_count": 11,
   "metadata": {},
   "outputs": [
    {
     "data": {
      "text/plain": [
       "<a href=\"http://twitter.com/download/iphone\" rel=\"nofollow\">Twitter for iPhone</a>     2221\n",
       "<a href=\"http://vine.co\" rel=\"nofollow\">Vine - Make a Scene</a>                          91\n",
       "<a href=\"http://twitter.com\" rel=\"nofollow\">Twitter Web Client</a>                       33\n",
       "<a href=\"https://about.twitter.com/products/tweetdeck\" rel=\"nofollow\">TweetDeck</a>      11\n",
       "Name: source, dtype: int64"
      ]
     },
     "execution_count": 11,
     "metadata": {},
     "output_type": "execute_result"
    }
   ],
   "source": [
    "# example of .value_counts() method used\n",
    "t_archive_clean.source.value_counts()"
   ]
  },
  {
   "cell_type": "code",
   "execution_count": 12,
   "metadata": {},
   "outputs": [
    {
     "data": {
      "text/plain": [
       "'This is Bella. She hopes her smile made you smile. If not, she is also offering you her favorite monkey. 13.5/10 https://t.co/qjrljjt948'"
      ]
     },
     "execution_count": 12,
     "metadata": {},
     "output_type": "execute_result"
    }
   ],
   "source": [
    "# example for rating_numerator programatic assessment\n",
    "lt_10 = t_archive_clean.rating_numerator.lt(10) \n",
    "t_archive_clean.loc[lt_10, 'text'].iloc[0] #actual score is above 10"
   ]
  },
  {
   "cell_type": "markdown",
   "metadata": {},
   "source": [
    "##### 4. Cleaning\n",
    "   I've used letters D:for define, C: for Code and T: for test marking each section below."
   ]
  },
  {
   "cell_type": "markdown",
   "metadata": {},
   "source": [
    "4.1.1 D: Variables `in_reply_to_status_id`\\ `in_reply_to_user_id` have 78 non-null values #1"
   ]
  },
  {
   "cell_type": "code",
   "execution_count": 13,
   "metadata": {},
   "outputs": [
    {
     "data": {
      "text/plain": [
       "78"
      ]
     },
     "execution_count": 13,
     "metadata": {},
     "output_type": "execute_result"
    }
   ],
   "source": [
    "# number of replies found \n",
    "t_archive_clean[~t_archive_clean['in_reply_to_status_id'].isnull()].shape[0]"
   ]
  },
  {
   "cell_type": "markdown",
   "metadata": {},
   "source": [
    " 4.1.2 C: Remove both variables as only 78 values are present"
   ]
  },
  {
   "cell_type": "code",
   "execution_count": 14,
   "metadata": {},
   "outputs": [],
   "source": [
    "to_drop = t_archive.filter(like= 'in_reply').columns\n",
    "t_archive_clean = t_archive_clean.loc[:,~t_archive_clean.columns.isin(to_drop)]"
   ]
  },
  {
   "cell_type": "markdown",
   "metadata": {},
   "source": [
    " 4.1.3 T: Test if columns were removed"
   ]
  },
  {
   "cell_type": "code",
   "execution_count": 15,
   "metadata": {},
   "outputs": [],
   "source": [
    "assert not t_archive_clean.columns.isin(to_drop).any()"
   ]
  },
  {
   "cell_type": "markdown",
   "metadata": {},
   "source": [
    "4.2.1- D:`retweeted_status_id/status_user_ids` null values"
   ]
  },
  {
   "cell_type": "code",
   "execution_count": 16,
   "metadata": {},
   "outputs": [
    {
     "data": {
      "text/plain": [
       "181"
      ]
     },
     "execution_count": 16,
     "metadata": {},
     "output_type": "execute_result"
    }
   ],
   "source": [
    "#number of retweets\n",
    "(~t_archive_clean['retweeted_status_id'].isnull()).sum()"
   ]
  },
  {
   "cell_type": "markdown",
   "metadata": {},
   "source": [
    "4.2.2 C: After visual analysis; the equivalent tweet id appear to be retweets. As per project specification, we are only interested in original tweets. I will remove all values and the above variables. "
   ]
  },
  {
   "cell_type": "code",
   "execution_count": 17,
   "metadata": {},
   "outputs": [],
   "source": [
    "#retweet status id null values\n",
    "re_cols = ['retweeted_status_id', 'retweeted_status_user_id','retweeted_status_timestamp']\n",
    "t_archive_clean = t_archive_clean[t_archive_clean['retweeted_status_id'].isnull()] \\\n",
    "                                                                        .drop(re_cols ,axis = 1)"
   ]
  },
  {
   "cell_type": "markdown",
   "metadata": {},
   "source": [
    "4.2.3 T: Test if columns were removed"
   ]
  },
  {
   "cell_type": "code",
   "execution_count": 18,
   "metadata": {},
   "outputs": [],
   "source": [
    "assert not t_archive_clean.columns.isin(re_cols).any()"
   ]
  },
  {
   "cell_type": "markdown",
   "metadata": {},
   "source": [
    "4.3.1 - D: Improve dog name quality:\n",
    "    Dog `names` appear to be incorrect . 'a', 'just', 'all' were spotted. None value has the highest frequency."
   ]
  },
  {
   "cell_type": "markdown",
   "metadata": {},
   "source": [
    "4.3.2 C: identify all lower case names. Create bol array for indexing, convert to `np.NaN`"
   ]
  },
  {
   "cell_type": "code",
   "execution_count": 19,
   "metadata": {},
   "outputs": [],
   "source": [
    "#patern to match all words that start with lower case  \n",
    "#https://stackoverflow.com/questions/18307551/regex-pattern-to-find-all-lowercase-words\n",
    "patt = r'\\b[^A-Z\\s\\d]+\\b' \n",
    "regex1 = re.compile(pattern= patt)\n",
    "wrong_names = t_archive_clean.name.str.match(regex1, na=False) #create an bol array for indexing"
   ]
  },
  {
   "cell_type": "code",
   "execution_count": 20,
   "metadata": {},
   "outputs": [
    {
     "data": {
      "text/plain": [
       "array(['such', 'a', 'quite', 'not', 'one', 'incredibly', 'very', 'my',\n",
       "       'his', 'an', 'actually', 'just', 'getting', 'mad', 'this',\n",
       "       'unacceptable', 'all', 'old', 'infuriating', 'the', 'by',\n",
       "       'officially', 'life', 'light', 'space'], dtype=object)"
      ]
     },
     "execution_count": 20,
     "metadata": {},
     "output_type": "execute_result"
    }
   ],
   "source": [
    "t_archive_clean.loc[wrong_names, 'name'].unique() #incorrect dog names array"
   ]
  },
  {
   "cell_type": "code",
   "execution_count": 21,
   "metadata": {},
   "outputs": [],
   "source": [
    "t_archive_clean.loc[wrong_names, 'name'] = np.nan #convert all wrong names to NaN"
   ]
  },
  {
   "cell_type": "markdown",
   "metadata": {},
   "source": [
    "4.3.3- C: Identify all None values. Use bolean indexing to covert all values to `np.NAN`"
   ]
  },
  {
   "cell_type": "code",
   "execution_count": 22,
   "metadata": {},
   "outputs": [
    {
     "data": {
      "text/plain": [
       "None       680\n",
       "Charlie     11\n",
       "Lucy        11\n",
       "Oliver      10\n",
       "Cooper      10\n",
       "Name: name, dtype: int64"
      ]
     },
     "execution_count": 22,
     "metadata": {},
     "output_type": "execute_result"
    }
   ],
   "source": [
    "t_archive_clean.name.value_counts()[:5]"
   ]
  },
  {
   "cell_type": "code",
   "execution_count": 23,
   "metadata": {},
   "outputs": [],
   "source": [
    "t_archive_clean.loc[t_archive_clean.name == 'None', 'name'] = np.nan #converting all none to NaN"
   ]
  },
  {
   "cell_type": "markdown",
   "metadata": {},
   "source": [
    "4.3.4 - T: Test if all identified incorrect names have been removed"
   ]
  },
  {
   "cell_type": "code",
   "execution_count": 24,
   "metadata": {},
   "outputs": [],
   "source": [
    "assert t_archive_clean.loc[wrong_names, 'name'].isnull().all(),\\\n",
    "       t_archive_clean.name.eq('None').any()     "
   ]
  },
  {
   "cell_type": "markdown",
   "metadata": {},
   "source": [
    "4.3.4 - C: Identify all upper case dog names. Combine this new series with name series."
   ]
  },
  {
   "cell_type": "code",
   "execution_count": 25,
   "metadata": {},
   "outputs": [
    {
     "data": {
      "text/html": [
       "<div>\n",
       "<style scoped>\n",
       "    .dataframe tbody tr th:only-of-type {\n",
       "        vertical-align: middle;\n",
       "    }\n",
       "\n",
       "    .dataframe tbody tr th {\n",
       "        vertical-align: top;\n",
       "    }\n",
       "\n",
       "    .dataframe thead th {\n",
       "        text-align: right;\n",
       "    }\n",
       "</style>\n",
       "<table border=\"1\" class=\"dataframe\">\n",
       "  <thead>\n",
       "    <tr style=\"text-align: right;\">\n",
       "      <th></th>\n",
       "      <th>0</th>\n",
       "    </tr>\n",
       "  </thead>\n",
       "  <tbody>\n",
       "    <tr>\n",
       "      <th>1451</th>\n",
       "      <td>Wyatt</td>\n",
       "    </tr>\n",
       "    <tr>\n",
       "      <th>1498</th>\n",
       "      <td>NaN</td>\n",
       "    </tr>\n",
       "    <tr>\n",
       "      <th>2184</th>\n",
       "      <td>NaN</td>\n",
       "    </tr>\n",
       "    <tr>\n",
       "      <th>2003</th>\n",
       "      <td>Buddy</td>\n",
       "    </tr>\n",
       "    <tr>\n",
       "      <th>262</th>\n",
       "      <td>NaN</td>\n",
       "    </tr>\n",
       "    <tr>\n",
       "      <th>1998</th>\n",
       "      <td>NaN</td>\n",
       "    </tr>\n",
       "    <tr>\n",
       "      <th>1735</th>\n",
       "      <td>Hunter</td>\n",
       "    </tr>\n",
       "    <tr>\n",
       "      <th>1367</th>\n",
       "      <td>Sansa</td>\n",
       "    </tr>\n",
       "    <tr>\n",
       "      <th>1644</th>\n",
       "      <td>NaN</td>\n",
       "    </tr>\n",
       "    <tr>\n",
       "      <th>1770</th>\n",
       "      <td>NaN</td>\n",
       "    </tr>\n",
       "  </tbody>\n",
       "</table>\n",
       "</div>"
      ],
      "text/plain": [
       "           0\n",
       "1451   Wyatt\n",
       "1498     NaN\n",
       "2184     NaN\n",
       "2003   Buddy\n",
       "262      NaN\n",
       "1998     NaN\n",
       "1735  Hunter\n",
       "1367   Sansa\n",
       "1644     NaN\n",
       "1770     NaN"
      ]
     },
     "execution_count": 25,
     "metadata": {},
     "output_type": "execute_result"
    }
   ],
   "source": [
    "patt = r'(?:is|named|name){1}\\s{1,2}([A-Z]{1}[a-z]+)' \n",
    "regex2 = re.compile(pattern= patt)\n",
    "n = t_archive_clean.name\n",
    "p = t_archive_clean.text.str.extract(regex2)\n",
    "p.sample(10)"
   ]
  },
  {
   "cell_type": "code",
   "execution_count": 26,
   "metadata": {},
   "outputs": [
    {
     "data": {
      "text/plain": [
       "count     1443\n",
       "unique     975\n",
       "top       Lucy\n",
       "freq        11\n",
       "Name: name, dtype: object"
      ]
     },
     "execution_count": 26,
     "metadata": {},
     "output_type": "execute_result"
    }
   ],
   "source": [
    "t_archive_clean['name'] = p.squeeze().combine_first(n)\n",
    "t_archive_clean.name.describe()"
   ]
  },
  {
   "cell_type": "markdown",
   "metadata": {},
   "source": [
    "4.4.1 - D: Improve `source` variable: repeated url entries. Only last segment of text appear relevant. Convert to Categorical "
   ]
  },
  {
   "cell_type": "code",
   "execution_count": 27,
   "metadata": {},
   "outputs": [
    {
     "data": {
      "text/plain": [
       "<a href=\"http://twitter.com/download/iphone\" rel=\"nofollow\">Twitter for iPhone</a>     2042\n",
       "<a href=\"http://vine.co\" rel=\"nofollow\">Vine - Make a Scene</a>                          91\n",
       "<a href=\"http://twitter.com\" rel=\"nofollow\">Twitter Web Client</a>                       31\n",
       "<a href=\"https://about.twitter.com/products/tweetdeck\" rel=\"nofollow\">TweetDeck</a>      11\n",
       "Name: source, dtype: int64"
      ]
     },
     "execution_count": 27,
     "metadata": {},
     "output_type": "execute_result"
    }
   ],
   "source": [
    "# only 4 entries last portion of text is relevant\n",
    "t_archive_clean.source.value_counts() "
   ]
  },
  {
   "cell_type": "markdown",
   "metadata": {},
   "source": [
    "4.4.2 C: Use str.split method to retrive last indexer. Use str slice to remove unwanted section"
   ]
  },
  {
   "cell_type": "code",
   "execution_count": 28,
   "metadata": {},
   "outputs": [
    {
     "data": {
      "text/plain": [
       "array(['Twitter for iPhone', 'Twitter Web Client', 'Vine - Make a Scene',\n",
       "       'TweetDeck'], dtype=object)"
      ]
     },
     "execution_count": 28,
     "metadata": {},
     "output_type": "execute_result"
    }
   ],
   "source": [
    "#used `str.split` to retrieve require data source\n",
    "t_archive_clean.source.str.split('\">').str[-1].str[:-4].unique() #desired output"
   ]
  },
  {
   "cell_type": "code",
   "execution_count": 29,
   "metadata": {},
   "outputs": [],
   "source": [
    "#assign new cleaned variable and convert to categorical type\n",
    "t_archive_clean['source'] = t_archive_clean.source.str.split('\">').str[-1].str[:-4].astype('category')"
   ]
  },
  {
   "cell_type": "markdown",
   "metadata": {},
   "source": [
    "4.4.3 T: Test cleaning took place"
   ]
  },
  {
   "cell_type": "code",
   "execution_count": 30,
   "metadata": {},
   "outputs": [],
   "source": [
    "#assert if string was cleaned and variable converted\n",
    "assert ~t_archive_clean.source.str.contains('<a href=\"http:\"').any(), \\\n",
    "        t_archive_clean.source.dtype.is_dtype('category') "
   ]
  },
  {
   "cell_type": "markdown",
   "metadata": {},
   "source": [
    "4.5.1 D: The rating_numerator column should of type float and also it should be correctly extracted"
   ]
  },
  {
   "cell_type": "code",
   "execution_count": 31,
   "metadata": {},
   "outputs": [
    {
     "data": {
      "text/plain": [
       "Int64Index([1712, 1689, 45, 763, 695], dtype='int64')"
      ]
     },
     "execution_count": 31,
     "metadata": {},
     "output_type": "execute_result"
    }
   ],
   "source": [
    "#isolate a few samples of the pattern below; demonstrating the issues regarding extracting float rating_numerators\n",
    "cond = t_archive_clean.text.str.contains(r'\\s{1,2}\\d{1,2}\\.\\d{1,2}/', regex=True)\n",
    "index_float = t_archive_clean.loc[cond].sample(5).index\n",
    "index_float"
   ]
  },
  {
   "cell_type": "code",
   "execution_count": 32,
   "metadata": {},
   "outputs": [
    {
     "data": {
      "text/plain": [
       "1712    holiday puppers. Average of 11.26/10 htt\n",
       "1689    's checking his mirror. We'll bump to 9.\n",
       "45      ing you her favorite monkey. 13.5/10 htt\n",
       "763     he locals. 11.27/10 would smile back htt\n",
       "695     s of good. H*ckin magical af 9.75/10 htt\n",
       "Name: text, dtype: object"
      ]
     },
     "execution_count": 32,
     "metadata": {},
     "output_type": "execute_result"
    }
   ],
   "source": [
    "t_archive_clean.loc[index_float, 'text'].str[-60:-20]"
   ]
  },
  {
   "cell_type": "code",
   "execution_count": 33,
   "metadata": {},
   "outputs": [
    {
     "data": {
      "text/plain": [
       "1712    26\n",
       "1689     5\n",
       "45       5\n",
       "763     27\n",
       "695     75\n",
       "Name: rating_numerator, dtype: int64"
      ]
     },
     "execution_count": 33,
     "metadata": {},
     "output_type": "execute_result"
    }
   ],
   "source": [
    "#same indexes as above: proves issues extracting floats\n",
    "t_archive_clean.loc[index_float, 'rating_numerator']"
   ]
  },
  {
   "cell_type": "markdown",
   "metadata": {},
   "source": [
    "4.5.2 C: Define regex pattern; overwrite `rating_numerator_variable`"
   ]
  },
  {
   "cell_type": "code",
   "execution_count": 34,
   "metadata": {},
   "outputs": [],
   "source": [
    "patt = r'\\s{0,2}(?P<rating_numerator>\\d{1,2}\\.?\\d{1,2})/'\n",
    "regex1 = re.compile(pattern= patt)"
   ]
  },
  {
   "cell_type": "code",
   "execution_count": 35,
   "metadata": {},
   "outputs": [],
   "source": [
    "t_archive_clean['rating_numerator'] = t_archive_clean.text.str.extract(regex1).astype('float')"
   ]
  },
  {
   "cell_type": "markdown",
   "metadata": {},
   "source": [
    "4.5.3 T: Visual check on same `index_float` values "
   ]
  },
  {
   "cell_type": "code",
   "execution_count": 36,
   "metadata": {},
   "outputs": [
    {
     "data": {
      "text/plain": [
       "1712    holiday puppers. Average of 11.26/10 htt\n",
       "1689    's checking his mirror. We'll bump to 9.\n",
       "45      ing you her favorite monkey. 13.5/10 htt\n",
       "763     he locals. 11.27/10 would smile back htt\n",
       "695     s of good. H*ckin magical af 9.75/10 htt\n",
       "Name: text, dtype: object"
      ]
     },
     "execution_count": 36,
     "metadata": {},
     "output_type": "execute_result"
    }
   ],
   "source": [
    "t_archive_clean.loc[index_float, 'text'].str[-60:-20]"
   ]
  },
  {
   "cell_type": "code",
   "execution_count": 37,
   "metadata": {},
   "outputs": [
    {
     "data": {
      "text/plain": [
       "1712    11.26\n",
       "1689     9.50\n",
       "45      13.50\n",
       "763     11.27\n",
       "695      9.75\n",
       "Name: rating_numerator, dtype: float64"
      ]
     },
     "execution_count": 37,
     "metadata": {},
     "output_type": "execute_result"
    }
   ],
   "source": [
    "t_archive_clean.loc[index_float, 'rating_numerator']"
   ]
  },
  {
   "cell_type": "markdown",
   "metadata": {},
   "source": [
    "4.6.1 D: The rating_denominator values should all be 10"
   ]
  },
  {
   "cell_type": "code",
   "execution_count": 38,
   "metadata": {},
   "outputs": [
    {
     "data": {
      "text/plain": [
       "22"
      ]
     },
     "execution_count": 38,
     "metadata": {},
     "output_type": "execute_result"
    }
   ],
   "source": [
    "#values not equal to 10 -> rating denominator\n",
    "wrong_den = t_archive_clean['rating_denominator'].ne(10)\n",
    "t_archive_clean[wrong_den].rating_denominator.value_counts().sum() #22 in total"
   ]
  },
  {
   "cell_type": "markdown",
   "metadata": {},
   "source": [
    "4.6.2 C: identify all values not equal to 10. Use bolean indexing to assign the value 10"
   ]
  },
  {
   "cell_type": "code",
   "execution_count": 39,
   "metadata": {},
   "outputs": [],
   "source": [
    "t_archive_clean.loc[wrong_den, 'rating_denominator'] = 10"
   ]
  },
  {
   "cell_type": "markdown",
   "metadata": {},
   "source": [
    "4.6.3 T: Assert if all denominators are 10"
   ]
  },
  {
   "cell_type": "code",
   "execution_count": 40,
   "metadata": {},
   "outputs": [],
   "source": [
    "assert t_archive_clean.loc[:, 'rating_denominator'].eq(10).any() #assert if all have been converted"
   ]
  },
  {
   "cell_type": "markdown",
   "metadata": {},
   "source": [
    "4.7.1 D & C: `timestamp` variable needs to be converted to `datetime`."
   ]
  },
  {
   "cell_type": "code",
   "execution_count": 41,
   "metadata": {},
   "outputs": [
    {
     "data": {
      "text/plain": [
       "dtype('<M8[ns]')"
      ]
     },
     "execution_count": 41,
     "metadata": {},
     "output_type": "execute_result"
    }
   ],
   "source": [
    "#timestamp variable to datetime convertion\n",
    "t_archive_clean['timestamp'] = pd.to_datetime(t_archive.timestamp)\n",
    "t_archive_clean['timestamp'].dtype"
   ]
  },
  {
   "cell_type": "markdown",
   "metadata": {},
   "source": [
    "4.7.3 T: Assert if `timestamp` variable has been converted"
   ]
  },
  {
   "cell_type": "code",
   "execution_count": 42,
   "metadata": {},
   "outputs": [],
   "source": [
    "assert t_archive_clean.timestamp.dtype == pd.to_datetime(['2018/01/01']).dtype"
   ]
  },
  {
   "cell_type": "markdown",
   "metadata": {},
   "source": [
    "4.8.1 D:`duggo` to `puppo` variables need to be converted to `np.NAN`.Multiple values need to be highlighted"
   ]
  },
  {
   "cell_type": "markdown",
   "metadata": {},
   "source": [
    "4.8.2 C: Create variable w/ all columns required. Loop over each col. In each loop use bolean indexing and convert values None values to null"
   ]
  },
  {
   "cell_type": "code",
   "execution_count": 43,
   "metadata": {},
   "outputs": [],
   "source": [
    "# clean empty values to np.Nan\n",
    "cols = ['doggo', 'floofer', 'pupper', 'puppo'] #id all cols required\n",
    "for col in cols:\n",
    "    cond = t_archive_clean[col] == 'None'\n",
    "    t_archive_clean.loc[cond, col] = np.nan"
   ]
  },
  {
   "cell_type": "code",
   "execution_count": 44,
   "metadata": {},
   "outputs": [
    {
     "data": {
      "text/html": [
       "<div>\n",
       "<style scoped>\n",
       "    .dataframe tbody tr th:only-of-type {\n",
       "        vertical-align: middle;\n",
       "    }\n",
       "\n",
       "    .dataframe tbody tr th {\n",
       "        vertical-align: top;\n",
       "    }\n",
       "\n",
       "    .dataframe thead th {\n",
       "        text-align: right;\n",
       "    }\n",
       "</style>\n",
       "<table border=\"1\" class=\"dataframe\">\n",
       "  <thead>\n",
       "    <tr style=\"text-align: right;\">\n",
       "      <th></th>\n",
       "      <th>doggo</th>\n",
       "      <th>floofer</th>\n",
       "      <th>pupper</th>\n",
       "      <th>puppo</th>\n",
       "    </tr>\n",
       "  </thead>\n",
       "  <tbody>\n",
       "    <tr>\n",
       "      <th>191</th>\n",
       "      <td>doggo</td>\n",
       "      <td>NaN</td>\n",
       "      <td>NaN</td>\n",
       "      <td>puppo</td>\n",
       "    </tr>\n",
       "    <tr>\n",
       "      <th>200</th>\n",
       "      <td>doggo</td>\n",
       "      <td>floofer</td>\n",
       "      <td>NaN</td>\n",
       "      <td>NaN</td>\n",
       "    </tr>\n",
       "    <tr>\n",
       "      <th>460</th>\n",
       "      <td>doggo</td>\n",
       "      <td>NaN</td>\n",
       "      <td>pupper</td>\n",
       "      <td>NaN</td>\n",
       "    </tr>\n",
       "    <tr>\n",
       "      <th>531</th>\n",
       "      <td>doggo</td>\n",
       "      <td>NaN</td>\n",
       "      <td>pupper</td>\n",
       "      <td>NaN</td>\n",
       "    </tr>\n",
       "    <tr>\n",
       "      <th>565</th>\n",
       "      <td>doggo</td>\n",
       "      <td>NaN</td>\n",
       "      <td>pupper</td>\n",
       "      <td>NaN</td>\n",
       "    </tr>\n",
       "    <tr>\n",
       "      <th>575</th>\n",
       "      <td>doggo</td>\n",
       "      <td>NaN</td>\n",
       "      <td>pupper</td>\n",
       "      <td>NaN</td>\n",
       "    </tr>\n",
       "    <tr>\n",
       "      <th>705</th>\n",
       "      <td>doggo</td>\n",
       "      <td>NaN</td>\n",
       "      <td>pupper</td>\n",
       "      <td>NaN</td>\n",
       "    </tr>\n",
       "    <tr>\n",
       "      <th>733</th>\n",
       "      <td>doggo</td>\n",
       "      <td>NaN</td>\n",
       "      <td>pupper</td>\n",
       "      <td>NaN</td>\n",
       "    </tr>\n",
       "    <tr>\n",
       "      <th>889</th>\n",
       "      <td>doggo</td>\n",
       "      <td>NaN</td>\n",
       "      <td>pupper</td>\n",
       "      <td>NaN</td>\n",
       "    </tr>\n",
       "    <tr>\n",
       "      <th>956</th>\n",
       "      <td>doggo</td>\n",
       "      <td>NaN</td>\n",
       "      <td>pupper</td>\n",
       "      <td>NaN</td>\n",
       "    </tr>\n",
       "    <tr>\n",
       "      <th>1063</th>\n",
       "      <td>doggo</td>\n",
       "      <td>NaN</td>\n",
       "      <td>pupper</td>\n",
       "      <td>NaN</td>\n",
       "    </tr>\n",
       "    <tr>\n",
       "      <th>1113</th>\n",
       "      <td>doggo</td>\n",
       "      <td>NaN</td>\n",
       "      <td>pupper</td>\n",
       "      <td>NaN</td>\n",
       "    </tr>\n",
       "  </tbody>\n",
       "</table>\n",
       "</div>"
      ],
      "text/plain": [
       "      doggo  floofer  pupper  puppo\n",
       "191   doggo      NaN     NaN  puppo\n",
       "200   doggo  floofer     NaN    NaN\n",
       "460   doggo      NaN  pupper    NaN\n",
       "531   doggo      NaN  pupper    NaN\n",
       "565   doggo      NaN  pupper    NaN\n",
       "575   doggo      NaN  pupper    NaN\n",
       "705   doggo      NaN  pupper    NaN\n",
       "733   doggo      NaN  pupper    NaN\n",
       "889   doggo      NaN  pupper    NaN\n",
       "956   doggo      NaN  pupper    NaN\n",
       "1063  doggo      NaN  pupper    NaN\n",
       "1113  doggo      NaN  pupper    NaN"
      ]
     },
     "execution_count": 44,
     "metadata": {},
     "output_type": "execute_result"
    }
   ],
   "source": [
    "#define all multi values\n",
    "cond = t_archive_clean.loc[:, cols].count(axis = 1) > 1 \n",
    "multi_idx = t_archive_clean.loc[cond, cols].index\n",
    "\n",
    "t_archive_clean.loc[cond, cols]"
   ]
  },
  {
   "cell_type": "markdown",
   "metadata": {},
   "source": [
    "4.8.3 C: Highlights all indexes where count is bigger then 1. Use bolean indexing and convert all  required columns values to `NaN` first then all `doggo` values to string 'multi'."
   ]
  },
  {
   "cell_type": "code",
   "execution_count": 45,
   "metadata": {},
   "outputs": [],
   "source": [
    "t_archive_clean.loc[multi_idx, cols] = np.nan #multi dog class indexes tp NAN\n",
    "t_archive_clean.loc[multi_idx, 'doggo'] = 'multi' #doggo to 'multi'"
   ]
  },
  {
   "cell_type": "markdown",
   "metadata": {},
   "source": [
    "4.8.4 T: Assert if any None value and count of all god classes are less then 1 are still valid"
   ]
  },
  {
   "cell_type": "code",
   "execution_count": 46,
   "metadata": {},
   "outputs": [],
   "source": [
    "assert  t_archive_clean.loc[:, cols].count(axis = 1).lt(1).any(), \\\n",
    "        t_archive_clean.loc[:, cols].eq('None').any()"
   ]
  },
  {
   "cell_type": "markdown",
   "metadata": {},
   "source": [
    "4.9.1 D: `dog_type` : duggo, fluffer, puppo, pupper appear to be variables stored as columms"
   ]
  },
  {
   "cell_type": "code",
   "execution_count": 47,
   "metadata": {},
   "outputs": [
    {
     "data": {
      "text/plain": [
       "['doggo', 'floofer', 'pupper', 'puppo']"
      ]
     },
     "execution_count": 47,
     "metadata": {},
     "output_type": "execute_result"
    }
   ],
   "source": [
    "#defined above\n",
    "value_vars = cols\n",
    "value_vars"
   ]
  },
  {
   "cell_type": "code",
   "execution_count": 48,
   "metadata": {},
   "outputs": [
    {
     "data": {
      "text/html": [
       "<div>\n",
       "<style scoped>\n",
       "    .dataframe tbody tr th:only-of-type {\n",
       "        vertical-align: middle;\n",
       "    }\n",
       "\n",
       "    .dataframe tbody tr th {\n",
       "        vertical-align: top;\n",
       "    }\n",
       "\n",
       "    .dataframe thead th {\n",
       "        text-align: right;\n",
       "    }\n",
       "</style>\n",
       "<table border=\"1\" class=\"dataframe\">\n",
       "  <thead>\n",
       "    <tr style=\"text-align: right;\">\n",
       "      <th></th>\n",
       "      <th>doggo</th>\n",
       "      <th>floofer</th>\n",
       "      <th>pupper</th>\n",
       "      <th>puppo</th>\n",
       "    </tr>\n",
       "  </thead>\n",
       "  <tbody>\n",
       "    <tr>\n",
       "      <th>1150</th>\n",
       "      <td>NaN</td>\n",
       "      <td>NaN</td>\n",
       "      <td>NaN</td>\n",
       "      <td>NaN</td>\n",
       "    </tr>\n",
       "    <tr>\n",
       "      <th>1808</th>\n",
       "      <td>NaN</td>\n",
       "      <td>NaN</td>\n",
       "      <td>NaN</td>\n",
       "      <td>NaN</td>\n",
       "    </tr>\n",
       "    <tr>\n",
       "      <th>52</th>\n",
       "      <td>NaN</td>\n",
       "      <td>NaN</td>\n",
       "      <td>NaN</td>\n",
       "      <td>NaN</td>\n",
       "    </tr>\n",
       "    <tr>\n",
       "      <th>1155</th>\n",
       "      <td>NaN</td>\n",
       "      <td>NaN</td>\n",
       "      <td>NaN</td>\n",
       "      <td>NaN</td>\n",
       "    </tr>\n",
       "    <tr>\n",
       "      <th>1147</th>\n",
       "      <td>NaN</td>\n",
       "      <td>NaN</td>\n",
       "      <td>NaN</td>\n",
       "      <td>NaN</td>\n",
       "    </tr>\n",
       "    <tr>\n",
       "      <th>1697</th>\n",
       "      <td>NaN</td>\n",
       "      <td>NaN</td>\n",
       "      <td>pupper</td>\n",
       "      <td>NaN</td>\n",
       "    </tr>\n",
       "    <tr>\n",
       "      <th>487</th>\n",
       "      <td>NaN</td>\n",
       "      <td>NaN</td>\n",
       "      <td>NaN</td>\n",
       "      <td>NaN</td>\n",
       "    </tr>\n",
       "    <tr>\n",
       "      <th>25</th>\n",
       "      <td>NaN</td>\n",
       "      <td>NaN</td>\n",
       "      <td>NaN</td>\n",
       "      <td>NaN</td>\n",
       "    </tr>\n",
       "    <tr>\n",
       "      <th>2319</th>\n",
       "      <td>NaN</td>\n",
       "      <td>NaN</td>\n",
       "      <td>NaN</td>\n",
       "      <td>NaN</td>\n",
       "    </tr>\n",
       "    <tr>\n",
       "      <th>1712</th>\n",
       "      <td>NaN</td>\n",
       "      <td>NaN</td>\n",
       "      <td>NaN</td>\n",
       "      <td>NaN</td>\n",
       "    </tr>\n",
       "  </tbody>\n",
       "</table>\n",
       "</div>"
      ],
      "text/plain": [
       "     doggo floofer  pupper puppo\n",
       "1150   NaN     NaN     NaN   NaN\n",
       "1808   NaN     NaN     NaN   NaN\n",
       "52     NaN     NaN     NaN   NaN\n",
       "1155   NaN     NaN     NaN   NaN\n",
       "1147   NaN     NaN     NaN   NaN\n",
       "1697   NaN     NaN  pupper   NaN\n",
       "487    NaN     NaN     NaN   NaN\n",
       "25     NaN     NaN     NaN   NaN\n",
       "2319   NaN     NaN     NaN   NaN\n",
       "1712   NaN     NaN     NaN   NaN"
      ]
     },
     "execution_count": 48,
     "metadata": {},
     "output_type": "execute_result"
    }
   ],
   "source": [
    "# as seen several cols are values stored as columns\n",
    "t_archive_clean.loc[:,value_vars].sample(10)"
   ]
  },
  {
   "cell_type": "markdown",
   "metadata": {},
   "source": [
    "4.9.2 C:Store  total dog_type total prior to reshape, use combine_first method to create `dog_type` variable; drop value variables"
   ]
  },
  {
   "cell_type": "code",
   "execution_count": 49,
   "metadata": {},
   "outputs": [
    {
     "data": {
      "text/plain": [
       "344"
      ]
     },
     "execution_count": 49,
     "metadata": {},
     "output_type": "execute_result"
    }
   ],
   "source": [
    "#dog_type_total store\n",
    "dog_type_total = t_archive_clean.loc[:, cols].count().sum()\n",
    "dog_type_total"
   ]
  },
  {
   "cell_type": "code",
   "execution_count": 50,
   "metadata": {},
   "outputs": [],
   "source": [
    "#use combine_first to create new variable\n",
    "d = t_archive_clean\n",
    "d['dog_type']= d.doggo.combine_first(d.floofer).combine_first(d.pupper).combine_first(d.puppo)"
   ]
  },
  {
   "cell_type": "code",
   "execution_count": 51,
   "metadata": {},
   "outputs": [],
   "source": [
    "t_archive_clean = t_archive_clean.drop(value_vars, axis = 1)"
   ]
  },
  {
   "cell_type": "code",
   "execution_count": 52,
   "metadata": {},
   "outputs": [
    {
     "data": {
      "text/plain": [
       "pupper     224\n",
       "doggo       75\n",
       "puppo       24\n",
       "multi       12\n",
       "floofer      9\n",
       "Name: dog_type, dtype: int64"
      ]
     },
     "execution_count": 52,
     "metadata": {},
     "output_type": "execute_result"
    }
   ],
   "source": [
    "t_archive_clean.dog_type.value_counts()"
   ]
  },
  {
   "cell_type": "markdown",
   "metadata": {},
   "source": [
    "4.9.3 T: Assert if dog count total remains unchanged"
   ]
  },
  {
   "cell_type": "code",
   "execution_count": 53,
   "metadata": {},
   "outputs": [],
   "source": [
    "# assert if total dog_count are the same before and after reshape\n",
    "assert dog_type_total == t_archive_clean.dog_type.count().sum()"
   ]
  },
  {
   "cell_type": "markdown",
   "metadata": {},
   "source": [
    "4.10.1 D: `image_predict_clean`, `pn`, `pn_conf` and `pn_dog` are variables stored as columns names \n"
   ]
  },
  {
   "cell_type": "code",
   "execution_count": 54,
   "metadata": {},
   "outputs": [
    {
     "data": {
      "text/html": [
       "<div>\n",
       "<style scoped>\n",
       "    .dataframe tbody tr th:only-of-type {\n",
       "        vertical-align: middle;\n",
       "    }\n",
       "\n",
       "    .dataframe tbody tr th {\n",
       "        vertical-align: top;\n",
       "    }\n",
       "\n",
       "    .dataframe thead th {\n",
       "        text-align: right;\n",
       "    }\n",
       "</style>\n",
       "<table border=\"1\" class=\"dataframe\">\n",
       "  <thead>\n",
       "    <tr style=\"text-align: right;\">\n",
       "      <th></th>\n",
       "      <th>p1</th>\n",
       "      <th>p1_conf</th>\n",
       "      <th>p1_dog</th>\n",
       "      <th>p2</th>\n",
       "      <th>p2_conf</th>\n",
       "      <th>p2_dog</th>\n",
       "      <th>p3</th>\n",
       "      <th>p3_conf</th>\n",
       "      <th>p3_dog</th>\n",
       "    </tr>\n",
       "  </thead>\n",
       "  <tbody>\n",
       "    <tr>\n",
       "      <th>212</th>\n",
       "      <td>pot</td>\n",
       "      <td>0.273767</td>\n",
       "      <td>False</td>\n",
       "      <td>tray</td>\n",
       "      <td>9.288840e-02</td>\n",
       "      <td>False</td>\n",
       "      <td>doormat</td>\n",
       "      <td>5.072790e-02</td>\n",
       "      <td>False</td>\n",
       "    </tr>\n",
       "    <tr>\n",
       "      <th>427</th>\n",
       "      <td>Eskimo_dog</td>\n",
       "      <td>0.615741</td>\n",
       "      <td>True</td>\n",
       "      <td>Siberian_husky</td>\n",
       "      <td>1.995440e-01</td>\n",
       "      <td>True</td>\n",
       "      <td>malamute</td>\n",
       "      <td>1.791070e-01</td>\n",
       "      <td>True</td>\n",
       "    </tr>\n",
       "    <tr>\n",
       "      <th>1097</th>\n",
       "      <td>alp</td>\n",
       "      <td>0.320126</td>\n",
       "      <td>False</td>\n",
       "      <td>lawn_mower</td>\n",
       "      <td>8.080770e-02</td>\n",
       "      <td>False</td>\n",
       "      <td>viaduct</td>\n",
       "      <td>6.532100e-02</td>\n",
       "      <td>False</td>\n",
       "    </tr>\n",
       "    <tr>\n",
       "      <th>834</th>\n",
       "      <td>Pembroke</td>\n",
       "      <td>0.769999</td>\n",
       "      <td>True</td>\n",
       "      <td>Cardigan</td>\n",
       "      <td>2.292280e-01</td>\n",
       "      <td>True</td>\n",
       "      <td>Chihuahua</td>\n",
       "      <td>2.468370e-04</td>\n",
       "      <td>True</td>\n",
       "    </tr>\n",
       "    <tr>\n",
       "      <th>1078</th>\n",
       "      <td>car_mirror</td>\n",
       "      <td>0.819106</td>\n",
       "      <td>False</td>\n",
       "      <td>minibus</td>\n",
       "      <td>1.073830e-01</td>\n",
       "      <td>False</td>\n",
       "      <td>cab</td>\n",
       "      <td>3.484640e-02</td>\n",
       "      <td>False</td>\n",
       "    </tr>\n",
       "    <tr>\n",
       "      <th>1927</th>\n",
       "      <td>French_bulldog</td>\n",
       "      <td>0.432580</td>\n",
       "      <td>True</td>\n",
       "      <td>English_springer</td>\n",
       "      <td>3.258980e-01</td>\n",
       "      <td>True</td>\n",
       "      <td>Lakeland_terrier</td>\n",
       "      <td>4.261790e-02</td>\n",
       "      <td>True</td>\n",
       "    </tr>\n",
       "    <tr>\n",
       "      <th>29</th>\n",
       "      <td>coho</td>\n",
       "      <td>0.404640</td>\n",
       "      <td>False</td>\n",
       "      <td>barracouta</td>\n",
       "      <td>2.714850e-01</td>\n",
       "      <td>False</td>\n",
       "      <td>gar</td>\n",
       "      <td>1.899450e-01</td>\n",
       "      <td>False</td>\n",
       "    </tr>\n",
       "    <tr>\n",
       "      <th>822</th>\n",
       "      <td>cocker_spaniel</td>\n",
       "      <td>0.740013</td>\n",
       "      <td>True</td>\n",
       "      <td>Welsh_springer_spaniel</td>\n",
       "      <td>8.873900e-02</td>\n",
       "      <td>True</td>\n",
       "      <td>golden_retriever</td>\n",
       "      <td>4.746980e-02</td>\n",
       "      <td>True</td>\n",
       "    </tr>\n",
       "    <tr>\n",
       "      <th>106</th>\n",
       "      <td>jigsaw_puzzle</td>\n",
       "      <td>1.000000</td>\n",
       "      <td>False</td>\n",
       "      <td>prayer_rug</td>\n",
       "      <td>1.011300e-08</td>\n",
       "      <td>False</td>\n",
       "      <td>doormat</td>\n",
       "      <td>1.740170e-10</td>\n",
       "      <td>False</td>\n",
       "    </tr>\n",
       "    <tr>\n",
       "      <th>1298</th>\n",
       "      <td>Bedlington_terrier</td>\n",
       "      <td>0.399163</td>\n",
       "      <td>True</td>\n",
       "      <td>standard_poodle</td>\n",
       "      <td>8.642490e-02</td>\n",
       "      <td>True</td>\n",
       "      <td>wire-haired_fox_terrier</td>\n",
       "      <td>7.523110e-02</td>\n",
       "      <td>True</td>\n",
       "    </tr>\n",
       "  </tbody>\n",
       "</table>\n",
       "</div>"
      ],
      "text/plain": [
       "                      p1   p1_conf  p1_dog                      p2  \\\n",
       "212                  pot  0.273767   False                    tray   \n",
       "427           Eskimo_dog  0.615741    True          Siberian_husky   \n",
       "1097                 alp  0.320126   False              lawn_mower   \n",
       "834             Pembroke  0.769999    True                Cardigan   \n",
       "1078          car_mirror  0.819106   False                 minibus   \n",
       "1927      French_bulldog  0.432580    True        English_springer   \n",
       "29                  coho  0.404640   False              barracouta   \n",
       "822       cocker_spaniel  0.740013    True  Welsh_springer_spaniel   \n",
       "106        jigsaw_puzzle  1.000000   False              prayer_rug   \n",
       "1298  Bedlington_terrier  0.399163    True         standard_poodle   \n",
       "\n",
       "           p2_conf  p2_dog                       p3       p3_conf  p3_dog  \n",
       "212   9.288840e-02   False                  doormat  5.072790e-02   False  \n",
       "427   1.995440e-01    True                 malamute  1.791070e-01    True  \n",
       "1097  8.080770e-02   False                  viaduct  6.532100e-02   False  \n",
       "834   2.292280e-01    True                Chihuahua  2.468370e-04    True  \n",
       "1078  1.073830e-01   False                      cab  3.484640e-02   False  \n",
       "1927  3.258980e-01    True         Lakeland_terrier  4.261790e-02    True  \n",
       "29    2.714850e-01   False                      gar  1.899450e-01   False  \n",
       "822   8.873900e-02    True         golden_retriever  4.746980e-02    True  \n",
       "106   1.011300e-08   False                  doormat  1.740170e-10   False  \n",
       "1298  8.642490e-02    True  wire-haired_fox_terrier  7.523110e-02    True  "
      ]
     },
     "execution_count": 54,
     "metadata": {},
     "output_type": "execute_result"
    }
   ],
   "source": [
    "#image_predict_clean sample of the defined issue\n",
    "img_predict_clean.iloc[:,3:].sample(10)"
   ]
  },
  {
   "cell_type": "markdown",
   "metadata": {},
   "source": [
    "4.10.2 C: Create df copy; create stubs for value vars reshape; save id_vars; use `pandas.wide_to_long()` method to reshape all three predictions tests in one call"
   ]
  },
  {
   "cell_type": "code",
   "execution_count": 55,
   "metadata": {},
   "outputs": [],
   "source": [
    "#create copy prior to reshape\n",
    "img = img_predict_clean.copy()"
   ]
  },
  {
   "cell_type": "code",
   "execution_count": 56,
   "metadata": {},
   "outputs": [
    {
     "data": {
      "text/plain": [
       "Index(['tweet_id', 'url_jpg', 'num_img', 'p1', 'conf_p1', 'dog_p1', 'p2',\n",
       "       'conf_p2', 'dog_p2', 'p3', 'conf_p3', 'dog_p3'],\n",
       "      dtype='object')"
      ]
     },
     "execution_count": 56,
     "metadata": {},
     "output_type": "execute_result"
    }
   ],
   "source": [
    "#reverse columns string for stubs creation, skip 'tweet_id'\n",
    "img.columns = [col if 'tweet' in col else '_'.join(col.split('_')[::-1]) for col in img.columns]\n",
    "img.columns"
   ]
  },
  {
   "cell_type": "code",
   "execution_count": 57,
   "metadata": {},
   "outputs": [
    {
     "data": {
      "text/plain": [
       "{'p1': 'value_p1', 'p2': 'value_p2', 'p3': 'value_p3'}"
      ]
     },
     "execution_count": 57,
     "metadata": {},
     "output_type": "execute_result"
    }
   ],
   "source": [
    "#ammend pn to value_pn and rename columns\n",
    "p_rename = {f'p{n}': f'value_p{n}' for n in range(1,4)}\n",
    "p_rename"
   ]
  },
  {
   "cell_type": "code",
   "execution_count": 58,
   "metadata": {},
   "outputs": [
    {
     "data": {
      "text/plain": [
       "Index(['tweet_id', 'url_jpg', 'num_img', 'value_p1', 'conf_p1', 'dog_p1',\n",
       "       'value_p2', 'conf_p2', 'dog_p2', 'value_p3', 'conf_p3', 'dog_p3'],\n",
       "      dtype='object')"
      ]
     },
     "execution_count": 58,
     "metadata": {},
     "output_type": "execute_result"
    }
   ],
   "source": [
    "#rename value stub\n",
    "img = img.rename(columns=p_rename)\n",
    "img.columns"
   ]
  },
  {
   "cell_type": "code",
   "execution_count": 59,
   "metadata": {},
   "outputs": [
    {
     "data": {
      "text/plain": [
       "Index(['tweet_id', 'url_jpg', 'num_img'], dtype='object')"
      ]
     },
     "execution_count": 59,
     "metadata": {},
     "output_type": "execute_result"
    }
   ],
   "source": [
    "#save  id vars\n",
    "id_vars = img.columns[:3].copy() \n",
    "id_vars"
   ]
  },
  {
   "cell_type": "code",
   "execution_count": 60,
   "metadata": {},
   "outputs": [
    {
     "data": {
      "text/html": [
       "<div>\n",
       "<style scoped>\n",
       "    .dataframe tbody tr th:only-of-type {\n",
       "        vertical-align: middle;\n",
       "    }\n",
       "\n",
       "    .dataframe tbody tr th {\n",
       "        vertical-align: top;\n",
       "    }\n",
       "\n",
       "    .dataframe thead th {\n",
       "        text-align: right;\n",
       "    }\n",
       "</style>\n",
       "<table border=\"1\" class=\"dataframe\">\n",
       "  <thead>\n",
       "    <tr style=\"text-align: right;\">\n",
       "      <th></th>\n",
       "      <th>tweet_id</th>\n",
       "      <th>url_jpg</th>\n",
       "      <th>num_img</th>\n",
       "      <th>pred_number</th>\n",
       "      <th>breed</th>\n",
       "      <th>conf</th>\n",
       "      <th>dog</th>\n",
       "    </tr>\n",
       "  </thead>\n",
       "  <tbody>\n",
       "    <tr>\n",
       "      <th>0</th>\n",
       "      <td>666020888022790149</td>\n",
       "      <td>https://pbs.twimg.com/media/CT4udn0WwAA0aMy.jpg</td>\n",
       "      <td>1</td>\n",
       "      <td>p1</td>\n",
       "      <td>Welsh_springer_spaniel</td>\n",
       "      <td>0.465074</td>\n",
       "      <td>True</td>\n",
       "    </tr>\n",
       "    <tr>\n",
       "      <th>1</th>\n",
       "      <td>666020888022790149</td>\n",
       "      <td>https://pbs.twimg.com/media/CT4udn0WwAA0aMy.jpg</td>\n",
       "      <td>1</td>\n",
       "      <td>p2</td>\n",
       "      <td>collie</td>\n",
       "      <td>0.156665</td>\n",
       "      <td>True</td>\n",
       "    </tr>\n",
       "    <tr>\n",
       "      <th>2</th>\n",
       "      <td>666020888022790149</td>\n",
       "      <td>https://pbs.twimg.com/media/CT4udn0WwAA0aMy.jpg</td>\n",
       "      <td>1</td>\n",
       "      <td>p3</td>\n",
       "      <td>Shetland_sheepdog</td>\n",
       "      <td>0.061428</td>\n",
       "      <td>True</td>\n",
       "    </tr>\n",
       "    <tr>\n",
       "      <th>3</th>\n",
       "      <td>666029285002620928</td>\n",
       "      <td>https://pbs.twimg.com/media/CT42GRgUYAA5iDo.jpg</td>\n",
       "      <td>1</td>\n",
       "      <td>p1</td>\n",
       "      <td>redbone</td>\n",
       "      <td>0.506826</td>\n",
       "      <td>True</td>\n",
       "    </tr>\n",
       "    <tr>\n",
       "      <th>4</th>\n",
       "      <td>666029285002620928</td>\n",
       "      <td>https://pbs.twimg.com/media/CT42GRgUYAA5iDo.jpg</td>\n",
       "      <td>1</td>\n",
       "      <td>p2</td>\n",
       "      <td>miniature_pinscher</td>\n",
       "      <td>0.074192</td>\n",
       "      <td>True</td>\n",
       "    </tr>\n",
       "    <tr>\n",
       "      <th>5</th>\n",
       "      <td>666029285002620928</td>\n",
       "      <td>https://pbs.twimg.com/media/CT42GRgUYAA5iDo.jpg</td>\n",
       "      <td>1</td>\n",
       "      <td>p3</td>\n",
       "      <td>Rhodesian_ridgeback</td>\n",
       "      <td>0.072010</td>\n",
       "      <td>True</td>\n",
       "    </tr>\n",
       "    <tr>\n",
       "      <th>6</th>\n",
       "      <td>666033412701032449</td>\n",
       "      <td>https://pbs.twimg.com/media/CT4521TWwAEvMyu.jpg</td>\n",
       "      <td>1</td>\n",
       "      <td>p1</td>\n",
       "      <td>German_shepherd</td>\n",
       "      <td>0.596461</td>\n",
       "      <td>True</td>\n",
       "    </tr>\n",
       "    <tr>\n",
       "      <th>7</th>\n",
       "      <td>666033412701032449</td>\n",
       "      <td>https://pbs.twimg.com/media/CT4521TWwAEvMyu.jpg</td>\n",
       "      <td>1</td>\n",
       "      <td>p2</td>\n",
       "      <td>malinois</td>\n",
       "      <td>0.138584</td>\n",
       "      <td>True</td>\n",
       "    </tr>\n",
       "    <tr>\n",
       "      <th>8</th>\n",
       "      <td>666033412701032449</td>\n",
       "      <td>https://pbs.twimg.com/media/CT4521TWwAEvMyu.jpg</td>\n",
       "      <td>1</td>\n",
       "      <td>p3</td>\n",
       "      <td>bloodhound</td>\n",
       "      <td>0.116197</td>\n",
       "      <td>True</td>\n",
       "    </tr>\n",
       "    <tr>\n",
       "      <th>9</th>\n",
       "      <td>666044226329800704</td>\n",
       "      <td>https://pbs.twimg.com/media/CT5Dr8HUEAA-lEu.jpg</td>\n",
       "      <td>1</td>\n",
       "      <td>p1</td>\n",
       "      <td>Rhodesian_ridgeback</td>\n",
       "      <td>0.408143</td>\n",
       "      <td>True</td>\n",
       "    </tr>\n",
       "  </tbody>\n",
       "</table>\n",
       "</div>"
      ],
      "text/plain": [
       "             tweet_id                                          url_jpg  \\\n",
       "0  666020888022790149  https://pbs.twimg.com/media/CT4udn0WwAA0aMy.jpg   \n",
       "1  666020888022790149  https://pbs.twimg.com/media/CT4udn0WwAA0aMy.jpg   \n",
       "2  666020888022790149  https://pbs.twimg.com/media/CT4udn0WwAA0aMy.jpg   \n",
       "3  666029285002620928  https://pbs.twimg.com/media/CT42GRgUYAA5iDo.jpg   \n",
       "4  666029285002620928  https://pbs.twimg.com/media/CT42GRgUYAA5iDo.jpg   \n",
       "5  666029285002620928  https://pbs.twimg.com/media/CT42GRgUYAA5iDo.jpg   \n",
       "6  666033412701032449  https://pbs.twimg.com/media/CT4521TWwAEvMyu.jpg   \n",
       "7  666033412701032449  https://pbs.twimg.com/media/CT4521TWwAEvMyu.jpg   \n",
       "8  666033412701032449  https://pbs.twimg.com/media/CT4521TWwAEvMyu.jpg   \n",
       "9  666044226329800704  https://pbs.twimg.com/media/CT5Dr8HUEAA-lEu.jpg   \n",
       "\n",
       "   num_img pred_number                   breed      conf   dog  \n",
       "0        1          p1  Welsh_springer_spaniel  0.465074  True  \n",
       "1        1          p2                  collie  0.156665  True  \n",
       "2        1          p3       Shetland_sheepdog  0.061428  True  \n",
       "3        1          p1                 redbone  0.506826  True  \n",
       "4        1          p2      miniature_pinscher  0.074192  True  \n",
       "5        1          p3     Rhodesian_ridgeback  0.072010  True  \n",
       "6        1          p1         German_shepherd  0.596461  True  \n",
       "7        1          p2                malinois  0.138584  True  \n",
       "8        1          p3              bloodhound  0.116197  True  \n",
       "9        1          p1     Rhodesian_ridgeback  0.408143  True  "
      ]
     },
     "execution_count": 60,
     "metadata": {},
     "output_type": "execute_result"
    }
   ],
   "source": [
    "#reshape with wide to long\n",
    "img_predict_clean_long = pd.wide_to_long(img, stubnames= ['value', 'conf', 'dog'],\n",
    "                                         i = id_vars, j='pred_number', sep='_', suffix = '.*')\\\n",
    "                           .reset_index().rename(columns = {'value': 'breed'})\n",
    "\n",
    "img_predict_clean_long.head(10)"
   ]
  },
  {
   "cell_type": "markdown",
   "metadata": {},
   "source": [
    "4.10.3 T: Assert if all `tweet_id` are the same after df reshape"
   ]
  },
  {
   "cell_type": "code",
   "execution_count": 61,
   "metadata": {},
   "outputs": [],
   "source": [
    "assert set(img_predict_clean.tweet_id.values) == set(img_predict_clean_long.tweet_id.values)"
   ]
  },
  {
   "cell_type": "markdown",
   "metadata": {},
   "source": [
    "4.11.1 D: Merge all cleaned frames into a master DataFrame\n",
    "\n",
    "**Note:**\n",
    "\n",
    "Type of merge: \n",
    "\n",
    "- I've decided on inner merge so all tweets would have equivalent image prediction and counts"
   ]
  },
  {
   "cell_type": "markdown",
   "metadata": {},
   "source": [
    "4.12.2 C: Use `pandas.merge` for to merge all dataframes; save file as `twitter_archive_master.csv`"
   ]
  },
  {
   "cell_type": "code",
   "execution_count": 62,
   "metadata": {},
   "outputs": [],
   "source": [
    "#merge all dfs\n",
    "twitter_archive_master = t_archive_clean.merge(img_predict_clean_long, on='tweet_id')\\\n",
    "                                        .merge(counts_df, on= 'tweet_id')"
   ]
  },
  {
   "cell_type": "code",
   "execution_count": 63,
   "metadata": {},
   "outputs": [
    {
     "data": {
      "text/html": [
       "<div>\n",
       "<style scoped>\n",
       "    .dataframe tbody tr th:only-of-type {\n",
       "        vertical-align: middle;\n",
       "    }\n",
       "\n",
       "    .dataframe tbody tr th {\n",
       "        vertical-align: top;\n",
       "    }\n",
       "\n",
       "    .dataframe thead th {\n",
       "        text-align: right;\n",
       "    }\n",
       "</style>\n",
       "<table border=\"1\" class=\"dataframe\">\n",
       "  <thead>\n",
       "    <tr style=\"text-align: right;\">\n",
       "      <th></th>\n",
       "      <th>tweet_id</th>\n",
       "      <th>timestamp</th>\n",
       "      <th>source</th>\n",
       "      <th>text</th>\n",
       "      <th>expanded_urls</th>\n",
       "      <th>rating_numerator</th>\n",
       "      <th>rating_denominator</th>\n",
       "      <th>name</th>\n",
       "      <th>dog_type</th>\n",
       "      <th>url_jpg</th>\n",
       "      <th>num_img</th>\n",
       "      <th>pred_number</th>\n",
       "      <th>breed</th>\n",
       "      <th>conf</th>\n",
       "      <th>dog</th>\n",
       "      <th>retweet_count</th>\n",
       "      <th>favorite_count</th>\n",
       "    </tr>\n",
       "  </thead>\n",
       "  <tbody>\n",
       "    <tr>\n",
       "      <th>0</th>\n",
       "      <td>885528943205470208</td>\n",
       "      <td>2017-07-13 15:58:47</td>\n",
       "      <td>Twitter for iPhone</td>\n",
       "      <td>This is Maisey. She fell asleep mid-excavation...</td>\n",
       "      <td>https://twitter.com/dog_rates/status/885528943...</td>\n",
       "      <td>13.0</td>\n",
       "      <td>10</td>\n",
       "      <td>Maisey</td>\n",
       "      <td>NaN</td>\n",
       "      <td>https://pbs.twimg.com/media/DEoH3yvXgAAzQtS.jpg</td>\n",
       "      <td>1</td>\n",
       "      <td>p1</td>\n",
       "      <td>pug</td>\n",
       "      <td>0.369275</td>\n",
       "      <td>True</td>\n",
       "      <td>6331</td>\n",
       "      <td>35464</td>\n",
       "    </tr>\n",
       "    <tr>\n",
       "      <th>1</th>\n",
       "      <td>885528943205470208</td>\n",
       "      <td>2017-07-13 15:58:47</td>\n",
       "      <td>Twitter for iPhone</td>\n",
       "      <td>This is Maisey. She fell asleep mid-excavation...</td>\n",
       "      <td>https://twitter.com/dog_rates/status/885528943...</td>\n",
       "      <td>13.0</td>\n",
       "      <td>10</td>\n",
       "      <td>Maisey</td>\n",
       "      <td>NaN</td>\n",
       "      <td>https://pbs.twimg.com/media/DEoH3yvXgAAzQtS.jpg</td>\n",
       "      <td>1</td>\n",
       "      <td>p2</td>\n",
       "      <td>Labrador_retriever</td>\n",
       "      <td>0.265835</td>\n",
       "      <td>True</td>\n",
       "      <td>6331</td>\n",
       "      <td>35464</td>\n",
       "    </tr>\n",
       "    <tr>\n",
       "      <th>2</th>\n",
       "      <td>885528943205470208</td>\n",
       "      <td>2017-07-13 15:58:47</td>\n",
       "      <td>Twitter for iPhone</td>\n",
       "      <td>This is Maisey. She fell asleep mid-excavation...</td>\n",
       "      <td>https://twitter.com/dog_rates/status/885528943...</td>\n",
       "      <td>13.0</td>\n",
       "      <td>10</td>\n",
       "      <td>Maisey</td>\n",
       "      <td>NaN</td>\n",
       "      <td>https://pbs.twimg.com/media/DEoH3yvXgAAzQtS.jpg</td>\n",
       "      <td>1</td>\n",
       "      <td>p3</td>\n",
       "      <td>kuvasz</td>\n",
       "      <td>0.134697</td>\n",
       "      <td>True</td>\n",
       "      <td>6331</td>\n",
       "      <td>35464</td>\n",
       "    </tr>\n",
       "    <tr>\n",
       "      <th>3</th>\n",
       "      <td>884925521741709313</td>\n",
       "      <td>2017-07-12 00:01:00</td>\n",
       "      <td>Twitter for iPhone</td>\n",
       "      <td>This is Earl. He found a hat. Nervous about wh...</td>\n",
       "      <td>https://twitter.com/dog_rates/status/884925521...</td>\n",
       "      <td>12.0</td>\n",
       "      <td>10</td>\n",
       "      <td>Earl</td>\n",
       "      <td>NaN</td>\n",
       "      <td>https://pbs.twimg.com/media/DEfjEaNXkAAtPlj.jpg</td>\n",
       "      <td>1</td>\n",
       "      <td>p1</td>\n",
       "      <td>Italian_greyhound</td>\n",
       "      <td>0.259916</td>\n",
       "      <td>True</td>\n",
       "      <td>18002</td>\n",
       "      <td>76356</td>\n",
       "    </tr>\n",
       "    <tr>\n",
       "      <th>4</th>\n",
       "      <td>884925521741709313</td>\n",
       "      <td>2017-07-12 00:01:00</td>\n",
       "      <td>Twitter for iPhone</td>\n",
       "      <td>This is Earl. He found a hat. Nervous about wh...</td>\n",
       "      <td>https://twitter.com/dog_rates/status/884925521...</td>\n",
       "      <td>12.0</td>\n",
       "      <td>10</td>\n",
       "      <td>Earl</td>\n",
       "      <td>NaN</td>\n",
       "      <td>https://pbs.twimg.com/media/DEfjEaNXkAAtPlj.jpg</td>\n",
       "      <td>1</td>\n",
       "      <td>p2</td>\n",
       "      <td>American_Staffordshire_terrier</td>\n",
       "      <td>0.198451</td>\n",
       "      <td>True</td>\n",
       "      <td>18002</td>\n",
       "      <td>76356</td>\n",
       "    </tr>\n",
       "  </tbody>\n",
       "</table>\n",
       "</div>"
      ],
      "text/plain": [
       "             tweet_id           timestamp              source  \\\n",
       "0  885528943205470208 2017-07-13 15:58:47  Twitter for iPhone   \n",
       "1  885528943205470208 2017-07-13 15:58:47  Twitter for iPhone   \n",
       "2  885528943205470208 2017-07-13 15:58:47  Twitter for iPhone   \n",
       "3  884925521741709313 2017-07-12 00:01:00  Twitter for iPhone   \n",
       "4  884925521741709313 2017-07-12 00:01:00  Twitter for iPhone   \n",
       "\n",
       "                                                text  \\\n",
       "0  This is Maisey. She fell asleep mid-excavation...   \n",
       "1  This is Maisey. She fell asleep mid-excavation...   \n",
       "2  This is Maisey. She fell asleep mid-excavation...   \n",
       "3  This is Earl. He found a hat. Nervous about wh...   \n",
       "4  This is Earl. He found a hat. Nervous about wh...   \n",
       "\n",
       "                                       expanded_urls  rating_numerator  \\\n",
       "0  https://twitter.com/dog_rates/status/885528943...              13.0   \n",
       "1  https://twitter.com/dog_rates/status/885528943...              13.0   \n",
       "2  https://twitter.com/dog_rates/status/885528943...              13.0   \n",
       "3  https://twitter.com/dog_rates/status/884925521...              12.0   \n",
       "4  https://twitter.com/dog_rates/status/884925521...              12.0   \n",
       "\n",
       "   rating_denominator    name dog_type  \\\n",
       "0                  10  Maisey      NaN   \n",
       "1                  10  Maisey      NaN   \n",
       "2                  10  Maisey      NaN   \n",
       "3                  10    Earl      NaN   \n",
       "4                  10    Earl      NaN   \n",
       "\n",
       "                                           url_jpg  num_img pred_number  \\\n",
       "0  https://pbs.twimg.com/media/DEoH3yvXgAAzQtS.jpg        1          p1   \n",
       "1  https://pbs.twimg.com/media/DEoH3yvXgAAzQtS.jpg        1          p2   \n",
       "2  https://pbs.twimg.com/media/DEoH3yvXgAAzQtS.jpg        1          p3   \n",
       "3  https://pbs.twimg.com/media/DEfjEaNXkAAtPlj.jpg        1          p1   \n",
       "4  https://pbs.twimg.com/media/DEfjEaNXkAAtPlj.jpg        1          p2   \n",
       "\n",
       "                            breed      conf   dog  retweet_count  \\\n",
       "0                             pug  0.369275  True           6331   \n",
       "1              Labrador_retriever  0.265835  True           6331   \n",
       "2                          kuvasz  0.134697  True           6331   \n",
       "3               Italian_greyhound  0.259916  True          18002   \n",
       "4  American_Staffordshire_terrier  0.198451  True          18002   \n",
       "\n",
       "   favorite_count  \n",
       "0           35464  \n",
       "1           35464  \n",
       "2           35464  \n",
       "3           76356  \n",
       "4           76356  "
      ]
     },
     "execution_count": 63,
     "metadata": {},
     "output_type": "execute_result"
    }
   ],
   "source": [
    "twitter_archive_master.head()"
   ]
  },
  {
   "cell_type": "code",
   "execution_count": 64,
   "metadata": {},
   "outputs": [
    {
     "name": "stdout",
     "output_type": "stream",
     "text": [
      "<class 'pandas.core.frame.DataFrame'>\n",
      "Int64Index: 2943 entries, 0 to 2942\n",
      "Data columns (total 17 columns):\n",
      "tweet_id              2943 non-null int64\n",
      "timestamp             2943 non-null datetime64[ns]\n",
      "source                2943 non-null category\n",
      "text                  2943 non-null object\n",
      "expanded_urls         2943 non-null object\n",
      "rating_numerator      2355 non-null float64\n",
      "rating_denominator    2943 non-null int64\n",
      "name                  2070 non-null object\n",
      "dog_type              483 non-null object\n",
      "url_jpg               2943 non-null object\n",
      "num_img               2943 non-null int64\n",
      "pred_number           2943 non-null object\n",
      "breed                 2943 non-null object\n",
      "conf                  2943 non-null float64\n",
      "dog                   2943 non-null bool\n",
      "retweet_count         2943 non-null int64\n",
      "favorite_count        2943 non-null int64\n",
      "dtypes: bool(1), category(1), datetime64[ns](1), float64(2), int64(5), object(7)\n",
      "memory usage: 373.8+ KB\n"
     ]
    }
   ],
   "source": [
    "twitter_archive_master.info()"
   ]
  },
  {
   "cell_type": "markdown",
   "metadata": {},
   "source": [
    "4.12.3 T: assert if all tweet_ids are unique"
   ]
  },
  {
   "cell_type": "code",
   "execution_count": 65,
   "metadata": {},
   "outputs": [],
   "source": [
    "#note there are duplicates tweet_id as a result of wide to long convertion img_predict_clean\n",
    "assert twitter_archive_master.tweet_id.duplicated().any()"
   ]
  },
  {
   "cell_type": "markdown",
   "metadata": {},
   "source": [
    "##### 5. Store the cleaned dataset as  `twitter_archive_master.csv`"
   ]
  },
  {
   "cell_type": "code",
   "execution_count": 66,
   "metadata": {},
   "outputs": [],
   "source": [
    "twitter_archive_master.to_csv(data/'twitter_archive_master.csv')"
   ]
  },
  {
   "cell_type": "markdown",
   "metadata": {},
   "source": [
    "#### 6.Act for final dataset `twitter_archive_master`\n",
    "\n",
    "- Analyze and visualize your wrangled data in your wrangle_act.ipynb Jupyter Notebook. At least three (3) insights and one (1) visualization must be produced.\n",
    "\n",
    "Insights:\n",
    "\n",
    "- what dog type has the highest average rating? `t_archive_clean` df\n",
    "- what are the top 10 dog names? `t_archive_clean` df \n",
    "- what dog breed has the highest tweet/retweet count average? `twitter_archive_master` df\n"
   ]
  },
  {
   "cell_type": "markdown",
   "metadata": {},
   "source": [
    "##### insight 1\n",
    "\n",
    "- what dog type has the highest average rating? `t_archive_clean` df"
   ]
  },
  {
   "cell_type": "code",
   "execution_count": 67,
   "metadata": {},
   "outputs": [],
   "source": [
    "grouped = t_archive_clean.groupby('dog_type')"
   ]
  },
  {
   "cell_type": "code",
   "execution_count": 68,
   "metadata": {},
   "outputs": [
    {
     "data": {
      "image/png": "[encoded data removed]",
      "text/plain": [
       "<Figure size 864x432 with 1 Axes>"
      ]
     },
     "metadata": {
      "needs_background": "light"
     },
     "output_type": "display_data"
    }
   ],
   "source": [
    "plot1 = grouped.rating_numerator.mean().round(1).plot(kind = 'bar',\n",
    "                                              title = 'Dog type vs numerator rating \\n WeRateDogs',\n",
    "                                              figsize = (12,6));\n",
    "plot1;"
   ]
  },
  {
   "cell_type": "code",
   "execution_count": 69,
   "metadata": {},
   "outputs": [],
   "source": [
    "plot1.figure.savefig('plot1')"
   ]
  },
  {
   "cell_type": "markdown",
   "metadata": {},
   "source": [
    "##### insight 2\n",
    "\n",
    "- what are the most common dog names? -> `t_archive_clean` df"
   ]
  },
  {
   "cell_type": "code",
   "execution_count": 70,
   "metadata": {},
   "outputs": [
    {
     "data": {
      "text/plain": [
       "Lucy       0.76%\n",
       "Charlie    0.76%\n",
       "Oliver     0.76%\n",
       "Cooper     0.69%\n",
       "Tucker     0.62%\n",
       "Penny      0.62%\n",
       "Sadie      0.55%\n",
       "Lola       0.55%\n",
       "Winston    0.55%\n",
       "Toby       0.49%\n",
       "Name: name, dtype: object"
      ]
     },
     "execution_count": 70,
     "metadata": {},
     "output_type": "execute_result"
    }
   ],
   "source": [
    "#most commom dog names in pct. \n",
    "t_archive_clean.name.value_counts(normalize= True).nlargest(10).map(lambda x:f'{round(x *100,2)}%')"
   ]
  },
  {
   "cell_type": "markdown",
   "metadata": {},
   "source": [
    "##### Insight 3\n",
    "- what dog breed has the tweet/retweet? -> `twitter_archive_master` df"
   ]
  },
  {
   "cell_type": "code",
   "execution_count": 71,
   "metadata": {},
   "outputs": [],
   "source": [
    "#create max_predict function to apply to grouped df\n",
    "def max_predict(df):\n",
    "    '''\n",
    "    df is grouped by tweet_id-> retrive confidence value per tweet\n",
    "    and equivalent values for other series below. \n",
    "    '''\n",
    "    data = OrderedDict()\n",
    "    data['max_predict'] = df.conf.max().round(3)\n",
    "    data['breed'] = df.loc[df.conf.idxmax(), 'breed']\n",
    "    data['retweet_count'] = df.loc[df.conf.idxmax(), 'retweet_count']\n",
    "    data['favorite_count'] = df.loc[df.conf.idxmax(), 'favorite_count']\n",
    "    return pd.Series(data)"
   ]
  },
  {
   "cell_type": "code",
   "execution_count": 72,
   "metadata": {},
   "outputs": [
    {
     "data": {
      "text/html": [
       "<div>\n",
       "<style scoped>\n",
       "    .dataframe tbody tr th:only-of-type {\n",
       "        vertical-align: middle;\n",
       "    }\n",
       "\n",
       "    .dataframe tbody tr th {\n",
       "        vertical-align: top;\n",
       "    }\n",
       "\n",
       "    .dataframe thead th {\n",
       "        text-align: right;\n",
       "    }\n",
       "</style>\n",
       "<table border=\"1\" class=\"dataframe\">\n",
       "  <thead>\n",
       "    <tr style=\"text-align: right;\">\n",
       "      <th></th>\n",
       "      <th>max_predict</th>\n",
       "      <th>breed</th>\n",
       "      <th>retweet_count</th>\n",
       "      <th>favorite_count</th>\n",
       "    </tr>\n",
       "    <tr>\n",
       "      <th>tweet_id</th>\n",
       "      <th></th>\n",
       "      <th></th>\n",
       "      <th></th>\n",
       "      <th></th>\n",
       "    </tr>\n",
       "  </thead>\n",
       "  <tbody>\n",
       "    <tr>\n",
       "      <th>666020888022790149</th>\n",
       "      <td>0.465</td>\n",
       "      <td>Welsh_springer_spaniel</td>\n",
       "      <td>507</td>\n",
       "      <td>2541</td>\n",
       "    </tr>\n",
       "    <tr>\n",
       "      <th>666033412701032449</th>\n",
       "      <td>0.596</td>\n",
       "      <td>German_shepherd</td>\n",
       "      <td>44</td>\n",
       "      <td>125</td>\n",
       "    </tr>\n",
       "    <tr>\n",
       "      <th>666049248165822465</th>\n",
       "      <td>0.560</td>\n",
       "      <td>miniature_pinscher</td>\n",
       "      <td>41</td>\n",
       "      <td>109</td>\n",
       "    </tr>\n",
       "    <tr>\n",
       "      <th>666057090499244032</th>\n",
       "      <td>0.008</td>\n",
       "      <td>golden_retriever</td>\n",
       "      <td>141</td>\n",
       "      <td>294</td>\n",
       "    </tr>\n",
       "    <tr>\n",
       "      <th>666063827256086533</th>\n",
       "      <td>0.776</td>\n",
       "      <td>golden_retriever</td>\n",
       "      <td>215</td>\n",
       "      <td>471</td>\n",
       "    </tr>\n",
       "  </tbody>\n",
       "</table>\n",
       "</div>"
      ],
      "text/plain": [
       "                    max_predict                   breed  retweet_count  \\\n",
       "tweet_id                                                                 \n",
       "666020888022790149        0.465  Welsh_springer_spaniel            507   \n",
       "666033412701032449        0.596         German_shepherd             44   \n",
       "666049248165822465        0.560      miniature_pinscher             41   \n",
       "666057090499244032        0.008        golden_retriever            141   \n",
       "666063827256086533        0.776        golden_retriever            215   \n",
       "\n",
       "                    favorite_count  \n",
       "tweet_id                            \n",
       "666020888022790149            2541  \n",
       "666033412701032449             125  \n",
       "666049248165822465             109  \n",
       "666057090499244032             294  \n",
       "666063827256086533             471  "
      ]
     },
     "execution_count": 72,
     "metadata": {},
     "output_type": "execute_result"
    }
   ],
   "source": [
    "#prior to grouping filter out all False dog preditions\n",
    "g = twitter_archive_master.query('dog == True').groupby('tweet_id')\n",
    "real_dog = g.apply(max_predict)\n",
    "real_dog.head()"
   ]
  },
  {
   "cell_type": "code",
   "execution_count": 73,
   "metadata": {},
   "outputs": [
    {
     "data": {
      "text/html": [
       "<div>\n",
       "<style scoped>\n",
       "    .dataframe tbody tr th:only-of-type {\n",
       "        vertical-align: middle;\n",
       "    }\n",
       "\n",
       "    .dataframe tbody tr th {\n",
       "        vertical-align: top;\n",
       "    }\n",
       "\n",
       "    .dataframe thead th {\n",
       "        text-align: right;\n",
       "    }\n",
       "</style>\n",
       "<table border=\"1\" class=\"dataframe\">\n",
       "  <thead>\n",
       "    <tr style=\"text-align: right;\">\n",
       "      <th></th>\n",
       "      <th>favorite_count</th>\n",
       "      <th>retweet_count</th>\n",
       "    </tr>\n",
       "    <tr>\n",
       "      <th>breed</th>\n",
       "      <th></th>\n",
       "      <th></th>\n",
       "    </tr>\n",
       "  </thead>\n",
       "  <tbody>\n",
       "    <tr>\n",
       "      <th>Saluki</th>\n",
       "      <td>29973</td>\n",
       "      <td>6170</td>\n",
       "    </tr>\n",
       "    <tr>\n",
       "      <th>standard_poodle</th>\n",
       "      <td>26415</td>\n",
       "      <td>10513</td>\n",
       "    </tr>\n",
       "    <tr>\n",
       "      <th>Lakeland_terrier</th>\n",
       "      <td>23071</td>\n",
       "      <td>7872</td>\n",
       "    </tr>\n",
       "    <tr>\n",
       "      <th>English_springer</th>\n",
       "      <td>21713</td>\n",
       "      <td>8978</td>\n",
       "    </tr>\n",
       "    <tr>\n",
       "      <th>komondor</th>\n",
       "      <td>20050</td>\n",
       "      <td>3445</td>\n",
       "    </tr>\n",
       "    <tr>\n",
       "      <th>Border_terrier</th>\n",
       "      <td>18802</td>\n",
       "      <td>4730</td>\n",
       "    </tr>\n",
       "    <tr>\n",
       "      <th>Eskimo_dog</th>\n",
       "      <td>17556</td>\n",
       "      <td>6945</td>\n",
       "    </tr>\n",
       "    <tr>\n",
       "      <th>Bouvier_des_Flandres</th>\n",
       "      <td>17333</td>\n",
       "      <td>4240</td>\n",
       "    </tr>\n",
       "    <tr>\n",
       "      <th>cocker_spaniel</th>\n",
       "      <td>16682</td>\n",
       "      <td>6036</td>\n",
       "    </tr>\n",
       "    <tr>\n",
       "      <th>black-and-tan_coonhound</th>\n",
       "      <td>16418</td>\n",
       "      <td>3925</td>\n",
       "    </tr>\n",
       "  </tbody>\n",
       "</table>\n",
       "</div>"
      ],
      "text/plain": [
       "                         favorite_count  retweet_count\n",
       "breed                                                 \n",
       "Saluki                            29973           6170\n",
       "standard_poodle                   26415          10513\n",
       "Lakeland_terrier                  23071           7872\n",
       "English_springer                  21713           8978\n",
       "komondor                          20050           3445\n",
       "Border_terrier                    18802           4730\n",
       "Eskimo_dog                        17556           6945\n",
       "Bouvier_des_Flandres              17333           4240\n",
       "cocker_spaniel                    16682           6036\n",
       "black-and-tan_coonhound           16418           3925"
      ]
     },
     "execution_count": 73,
     "metadata": {},
     "output_type": "execute_result"
    }
   ],
   "source": [
    "top_10_breeds = real_dog.groupby('breed').agg({'favorite_count': 'mean', 'retweet_count':'mean' }) \\\n",
    "                                         .astype(int).nlargest(10, columns = ['favorite_count','retweet_count'])\n",
    "top_10_breeds"
   ]
  },
  {
   "cell_type": "code",
   "execution_count": 74,
   "metadata": {},
   "outputs": [
    {
     "data": {
      "image/png": "[encoded data removed]",
      "text/plain": [
       "<Figure size 864x432 with 1 Axes>"
      ]
     },
     "metadata": {
      "needs_background": "light"
     },
     "output_type": "display_data"
    }
   ],
   "source": [
    "plot2 = top_10_breeds.plot(kind = 'barh', figsize = (12,6),\n",
    "                       title = 'Average retweet/favorite count per dog breed image prediction \\n WeRateDogs');"
   ]
  },
  {
   "cell_type": "code",
   "execution_count": 75,
   "metadata": {},
   "outputs": [],
   "source": [
    "plot2.figure.savefig('plot2' )"
   ]
  },
  {
   "cell_type": "code",
   "execution_count": 76,
   "metadata": {},
   "outputs": [],
   "source": [
    "top_10_breeds_2 = real_dog.groupby('breed').agg({'favorite_count': 'mean', 'retweet_count':'mean' }) \\\n",
    "                                           .astype(int).nlargest(10, columns = ['retweet_count','favorite_count'])"
   ]
  },
  {
   "cell_type": "code",
   "execution_count": 77,
   "metadata": {},
   "outputs": [
    {
     "data": {
      "text/html": [
       "<div>\n",
       "<style scoped>\n",
       "    .dataframe tbody tr th:only-of-type {\n",
       "        vertical-align: middle;\n",
       "    }\n",
       "\n",
       "    .dataframe tbody tr th {\n",
       "        vertical-align: top;\n",
       "    }\n",
       "\n",
       "    .dataframe thead th {\n",
       "        text-align: right;\n",
       "    }\n",
       "</style>\n",
       "<table border=\"1\" class=\"dataframe\">\n",
       "  <thead>\n",
       "    <tr style=\"text-align: right;\">\n",
       "      <th></th>\n",
       "      <th>favorite_count</th>\n",
       "      <th>retweet_count</th>\n",
       "    </tr>\n",
       "    <tr>\n",
       "      <th>breed</th>\n",
       "      <th></th>\n",
       "      <th></th>\n",
       "    </tr>\n",
       "  </thead>\n",
       "  <tbody>\n",
       "    <tr>\n",
       "      <th>standard_poodle</th>\n",
       "      <td>26415</td>\n",
       "      <td>10513</td>\n",
       "    </tr>\n",
       "    <tr>\n",
       "      <th>English_springer</th>\n",
       "      <td>21713</td>\n",
       "      <td>8978</td>\n",
       "    </tr>\n",
       "    <tr>\n",
       "      <th>Lakeland_terrier</th>\n",
       "      <td>23071</td>\n",
       "      <td>7872</td>\n",
       "    </tr>\n",
       "    <tr>\n",
       "      <th>Gordon_setter</th>\n",
       "      <td>13093</td>\n",
       "      <td>7459</td>\n",
       "    </tr>\n",
       "    <tr>\n",
       "      <th>Eskimo_dog</th>\n",
       "      <td>17556</td>\n",
       "      <td>6945</td>\n",
       "    </tr>\n",
       "    <tr>\n",
       "      <th>Saluki</th>\n",
       "      <td>29973</td>\n",
       "      <td>6170</td>\n",
       "    </tr>\n",
       "    <tr>\n",
       "      <th>cocker_spaniel</th>\n",
       "      <td>16682</td>\n",
       "      <td>6036</td>\n",
       "    </tr>\n",
       "    <tr>\n",
       "      <th>Samoyed</th>\n",
       "      <td>15626</td>\n",
       "      <td>5368</td>\n",
       "    </tr>\n",
       "    <tr>\n",
       "      <th>flat-coated_retriever</th>\n",
       "      <td>16179</td>\n",
       "      <td>5161</td>\n",
       "    </tr>\n",
       "    <tr>\n",
       "      <th>Border_terrier</th>\n",
       "      <td>18802</td>\n",
       "      <td>4730</td>\n",
       "    </tr>\n",
       "  </tbody>\n",
       "</table>\n",
       "</div>"
      ],
      "text/plain": [
       "                       favorite_count  retweet_count\n",
       "breed                                               \n",
       "standard_poodle                 26415          10513\n",
       "English_springer                21713           8978\n",
       "Lakeland_terrier                23071           7872\n",
       "Gordon_setter                   13093           7459\n",
       "Eskimo_dog                      17556           6945\n",
       "Saluki                          29973           6170\n",
       "cocker_spaniel                  16682           6036\n",
       "Samoyed                         15626           5368\n",
       "flat-coated_retriever           16179           5161\n",
       "Border_terrier                  18802           4730"
      ]
     },
     "execution_count": 77,
     "metadata": {},
     "output_type": "execute_result"
    }
   ],
   "source": [
    "top_10_breeds_2"
   ]
  }
 ],
 "metadata": {
  "kernelspec": {
   "display_name": "Python 3",
   "language": "python",
   "name": "python3"
  },
  "language_info": {
   "codemirror_mode": {
    "name": "ipython",
    "version": 3
   },
   "file_extension": ".py",
   "mimetype": "text/x-python",
   "name": "python",
   "nbconvert_exporter": "python",
   "pygments_lexer": "ipython3",
   "version": "3.6.7"
  }
 },
 "nbformat": 4,
 "nbformat_minor": 2
}
